{
 "cells": [
  {
   "cell_type": "code",
   "execution_count": 61,
   "metadata": {
    "colab": {
     "base_uri": "https://localhost:8080/",
     "height": 72
    },
    "colab_type": "code",
    "executionInfo": {
     "elapsed": 4374,
     "status": "ok",
     "timestamp": 1598677540864,
     "user": {
      "displayName": "Gaurav Verma 119",
      "photoUrl": "https://lh3.googleusercontent.com/a-/AOh14GgzLA8PT_kmpW_8mwzWXqXGW6RSaxpSYPhLtQpfEQ=s64",
      "userId": "00609122792237149389"
     },
     "user_tz": -330
    },
    "id": "cYm8CrJ1wrE8",
    "outputId": "c7f72a30-aff4-44a3-fe7e-3f96b46bd0ff"
   },
   "outputs": [],
   "source": [
    "import pandas as pd\n",
    "import numpy as np\n",
    "from collections import Counter\n",
    "import matplotlib.pyplot as plt\n",
    "import seaborn as sns"
   ]
  },
  {
   "cell_type": "code",
   "execution_count": 62,
   "metadata": {
    "colab": {
     "base_uri": "https://localhost:8080/",
     "height": 124
    },
    "colab_type": "code",
    "executionInfo": {
     "elapsed": 39735,
     "status": "ok",
     "timestamp": 1598677576256,
     "user": {
      "displayName": "Gaurav Verma 119",
      "photoUrl": "https://lh3.googleusercontent.com/a-/AOh14GgzLA8PT_kmpW_8mwzWXqXGW6RSaxpSYPhLtQpfEQ=s64",
      "userId": "00609122792237149389"
     },
     "user_tz": -330
    },
    "id": "rqMfN42uw4ry",
    "outputId": "582e03d1-5048-4722-8bf0-bb230896f750"
   },
   "outputs": [],
   "source": [
    "#from google.colab import drive\n",
    "#drive.mount(\"/content/gdrive\")"
   ]
  },
  {
   "cell_type": "code",
   "execution_count": 63,
   "metadata": {
    "colab": {
     "base_uri": "https://localhost:8080/",
     "height": 643
    },
    "colab_type": "code",
    "executionInfo": {
     "elapsed": 42036,
     "status": "ok",
     "timestamp": 1598677578597,
     "user": {
      "displayName": "Gaurav Verma 119",
      "photoUrl": "https://lh3.googleusercontent.com/a-/AOh14GgzLA8PT_kmpW_8mwzWXqXGW6RSaxpSYPhLtQpfEQ=s64",
      "userId": "00609122792237149389"
     },
     "user_tz": -330
    },
    "id": "gQ5I72www5gd",
    "outputId": "db7ace5e-645f-4d42-bd48-f43059b27937"
   },
   "outputs": [
    {
     "data": {
      "text/html": [
       "<div>\n",
       "<style scoped>\n",
       "    .dataframe tbody tr th:only-of-type {\n",
       "        vertical-align: middle;\n",
       "    }\n",
       "\n",
       "    .dataframe tbody tr th {\n",
       "        vertical-align: top;\n",
       "    }\n",
       "\n",
       "    .dataframe thead th {\n",
       "        text-align: right;\n",
       "    }\n",
       "</style>\n",
       "<table border=\"1\" class=\"dataframe\">\n",
       "  <thead>\n",
       "    <tr style=\"text-align: right;\">\n",
       "      <th></th>\n",
       "      <th>id</th>\n",
       "      <th>imdb_id</th>\n",
       "      <th>popularity</th>\n",
       "      <th>budget</th>\n",
       "      <th>revenue</th>\n",
       "      <th>original_title</th>\n",
       "      <th>cast</th>\n",
       "      <th>homepage</th>\n",
       "      <th>director</th>\n",
       "      <th>tagline</th>\n",
       "      <th>...</th>\n",
       "      <th>overview</th>\n",
       "      <th>runtime</th>\n",
       "      <th>genres</th>\n",
       "      <th>production_companies</th>\n",
       "      <th>release_date</th>\n",
       "      <th>vote_count</th>\n",
       "      <th>vote_average</th>\n",
       "      <th>release_year</th>\n",
       "      <th>budget_adj</th>\n",
       "      <th>revenue_adj</th>\n",
       "    </tr>\n",
       "  </thead>\n",
       "  <tbody>\n",
       "    <tr>\n",
       "      <th>0</th>\n",
       "      <td>135397</td>\n",
       "      <td>tt0369610</td>\n",
       "      <td>32.985763</td>\n",
       "      <td>150000000</td>\n",
       "      <td>1513528810</td>\n",
       "      <td>Jurassic World</td>\n",
       "      <td>Chris Pratt|Bryce Dallas Howard|Irrfan Khan|Vi...</td>\n",
       "      <td>http://www.jurassicworld.com/</td>\n",
       "      <td>Colin Trevorrow</td>\n",
       "      <td>The park is open.</td>\n",
       "      <td>...</td>\n",
       "      <td>Twenty-two years after the events of Jurassic ...</td>\n",
       "      <td>124</td>\n",
       "      <td>Action|Adventure|Science Fiction|Thriller</td>\n",
       "      <td>Universal Studios|Amblin Entertainment|Legenda...</td>\n",
       "      <td>6/9/15</td>\n",
       "      <td>5562</td>\n",
       "      <td>6.5</td>\n",
       "      <td>2015</td>\n",
       "      <td>1.379999e+08</td>\n",
       "      <td>1.392446e+09</td>\n",
       "    </tr>\n",
       "    <tr>\n",
       "      <th>1</th>\n",
       "      <td>76341</td>\n",
       "      <td>tt1392190</td>\n",
       "      <td>28.419936</td>\n",
       "      <td>150000000</td>\n",
       "      <td>378436354</td>\n",
       "      <td>Mad Max: Fury Road</td>\n",
       "      <td>Tom Hardy|Charlize Theron|Hugh Keays-Byrne|Nic...</td>\n",
       "      <td>http://www.madmaxmovie.com/</td>\n",
       "      <td>George Miller</td>\n",
       "      <td>What a Lovely Day.</td>\n",
       "      <td>...</td>\n",
       "      <td>An apocalyptic story set in the furthest reach...</td>\n",
       "      <td>120</td>\n",
       "      <td>Action|Adventure|Science Fiction|Thriller</td>\n",
       "      <td>Village Roadshow Pictures|Kennedy Miller Produ...</td>\n",
       "      <td>5/13/15</td>\n",
       "      <td>6185</td>\n",
       "      <td>7.1</td>\n",
       "      <td>2015</td>\n",
       "      <td>1.379999e+08</td>\n",
       "      <td>3.481613e+08</td>\n",
       "    </tr>\n",
       "    <tr>\n",
       "      <th>2</th>\n",
       "      <td>262500</td>\n",
       "      <td>tt2908446</td>\n",
       "      <td>13.112507</td>\n",
       "      <td>110000000</td>\n",
       "      <td>295238201</td>\n",
       "      <td>Insurgent</td>\n",
       "      <td>Shailene Woodley|Theo James|Kate Winslet|Ansel...</td>\n",
       "      <td>http://www.thedivergentseries.movie/#insurgent</td>\n",
       "      <td>Robert Schwentke</td>\n",
       "      <td>One Choice Can Destroy You</td>\n",
       "      <td>...</td>\n",
       "      <td>Beatrice Prior must confront her inner demons ...</td>\n",
       "      <td>119</td>\n",
       "      <td>Adventure|Science Fiction|Thriller</td>\n",
       "      <td>Summit Entertainment|Mandeville Films|Red Wago...</td>\n",
       "      <td>3/18/15</td>\n",
       "      <td>2480</td>\n",
       "      <td>6.3</td>\n",
       "      <td>2015</td>\n",
       "      <td>1.012000e+08</td>\n",
       "      <td>2.716190e+08</td>\n",
       "    </tr>\n",
       "    <tr>\n",
       "      <th>3</th>\n",
       "      <td>140607</td>\n",
       "      <td>tt2488496</td>\n",
       "      <td>11.173104</td>\n",
       "      <td>200000000</td>\n",
       "      <td>2068178225</td>\n",
       "      <td>Star Wars: The Force Awakens</td>\n",
       "      <td>Harrison Ford|Mark Hamill|Carrie Fisher|Adam D...</td>\n",
       "      <td>http://www.starwars.com/films/star-wars-episod...</td>\n",
       "      <td>J.J. Abrams</td>\n",
       "      <td>Every generation has a story.</td>\n",
       "      <td>...</td>\n",
       "      <td>Thirty years after defeating the Galactic Empi...</td>\n",
       "      <td>136</td>\n",
       "      <td>Action|Adventure|Science Fiction|Fantasy</td>\n",
       "      <td>Lucasfilm|Truenorth Productions|Bad Robot</td>\n",
       "      <td>12/15/15</td>\n",
       "      <td>5292</td>\n",
       "      <td>7.5</td>\n",
       "      <td>2015</td>\n",
       "      <td>1.839999e+08</td>\n",
       "      <td>1.902723e+09</td>\n",
       "    </tr>\n",
       "    <tr>\n",
       "      <th>4</th>\n",
       "      <td>168259</td>\n",
       "      <td>tt2820852</td>\n",
       "      <td>9.335014</td>\n",
       "      <td>190000000</td>\n",
       "      <td>1506249360</td>\n",
       "      <td>Furious 7</td>\n",
       "      <td>Vin Diesel|Paul Walker|Jason Statham|Michelle ...</td>\n",
       "      <td>http://www.furious7.com/</td>\n",
       "      <td>James Wan</td>\n",
       "      <td>Vengeance Hits Home</td>\n",
       "      <td>...</td>\n",
       "      <td>Deckard Shaw seeks revenge against Dominic Tor...</td>\n",
       "      <td>137</td>\n",
       "      <td>Action|Crime|Thriller</td>\n",
       "      <td>Universal Pictures|Original Film|Media Rights ...</td>\n",
       "      <td>4/1/15</td>\n",
       "      <td>2947</td>\n",
       "      <td>7.3</td>\n",
       "      <td>2015</td>\n",
       "      <td>1.747999e+08</td>\n",
       "      <td>1.385749e+09</td>\n",
       "    </tr>\n",
       "  </tbody>\n",
       "</table>\n",
       "<p>5 rows × 21 columns</p>\n",
       "</div>"
      ],
      "text/plain": [
       "       id    imdb_id  popularity     budget     revenue  \\\n",
       "0  135397  tt0369610   32.985763  150000000  1513528810   \n",
       "1   76341  tt1392190   28.419936  150000000   378436354   \n",
       "2  262500  tt2908446   13.112507  110000000   295238201   \n",
       "3  140607  tt2488496   11.173104  200000000  2068178225   \n",
       "4  168259  tt2820852    9.335014  190000000  1506249360   \n",
       "\n",
       "                 original_title  \\\n",
       "0                Jurassic World   \n",
       "1            Mad Max: Fury Road   \n",
       "2                     Insurgent   \n",
       "3  Star Wars: The Force Awakens   \n",
       "4                     Furious 7   \n",
       "\n",
       "                                                cast  \\\n",
       "0  Chris Pratt|Bryce Dallas Howard|Irrfan Khan|Vi...   \n",
       "1  Tom Hardy|Charlize Theron|Hugh Keays-Byrne|Nic...   \n",
       "2  Shailene Woodley|Theo James|Kate Winslet|Ansel...   \n",
       "3  Harrison Ford|Mark Hamill|Carrie Fisher|Adam D...   \n",
       "4  Vin Diesel|Paul Walker|Jason Statham|Michelle ...   \n",
       "\n",
       "                                            homepage          director  \\\n",
       "0                      http://www.jurassicworld.com/   Colin Trevorrow   \n",
       "1                        http://www.madmaxmovie.com/     George Miller   \n",
       "2     http://www.thedivergentseries.movie/#insurgent  Robert Schwentke   \n",
       "3  http://www.starwars.com/films/star-wars-episod...       J.J. Abrams   \n",
       "4                           http://www.furious7.com/         James Wan   \n",
       "\n",
       "                         tagline  ...  \\\n",
       "0              The park is open.  ...   \n",
       "1             What a Lovely Day.  ...   \n",
       "2     One Choice Can Destroy You  ...   \n",
       "3  Every generation has a story.  ...   \n",
       "4            Vengeance Hits Home  ...   \n",
       "\n",
       "                                            overview runtime  \\\n",
       "0  Twenty-two years after the events of Jurassic ...     124   \n",
       "1  An apocalyptic story set in the furthest reach...     120   \n",
       "2  Beatrice Prior must confront her inner demons ...     119   \n",
       "3  Thirty years after defeating the Galactic Empi...     136   \n",
       "4  Deckard Shaw seeks revenge against Dominic Tor...     137   \n",
       "\n",
       "                                      genres  \\\n",
       "0  Action|Adventure|Science Fiction|Thriller   \n",
       "1  Action|Adventure|Science Fiction|Thriller   \n",
       "2         Adventure|Science Fiction|Thriller   \n",
       "3   Action|Adventure|Science Fiction|Fantasy   \n",
       "4                      Action|Crime|Thriller   \n",
       "\n",
       "                                production_companies release_date vote_count  \\\n",
       "0  Universal Studios|Amblin Entertainment|Legenda...       6/9/15       5562   \n",
       "1  Village Roadshow Pictures|Kennedy Miller Produ...      5/13/15       6185   \n",
       "2  Summit Entertainment|Mandeville Films|Red Wago...      3/18/15       2480   \n",
       "3          Lucasfilm|Truenorth Productions|Bad Robot     12/15/15       5292   \n",
       "4  Universal Pictures|Original Film|Media Rights ...       4/1/15       2947   \n",
       "\n",
       "   vote_average  release_year    budget_adj   revenue_adj  \n",
       "0           6.5          2015  1.379999e+08  1.392446e+09  \n",
       "1           7.1          2015  1.379999e+08  3.481613e+08  \n",
       "2           6.3          2015  1.012000e+08  2.716190e+08  \n",
       "3           7.5          2015  1.839999e+08  1.902723e+09  \n",
       "4           7.3          2015  1.747999e+08  1.385749e+09  \n",
       "\n",
       "[5 rows x 21 columns]"
      ]
     },
     "execution_count": 63,
     "metadata": {},
     "output_type": "execute_result"
    }
   ],
   "source": [
    "#URL='/content/gdrive/My Drive/Verzeo/Mini Assignment/movies.csv'\n",
    "URL='movies.csv'\n",
    "data = pd.read_csv(URL)\n",
    "data.head(5)"
   ]
  },
  {
   "cell_type": "markdown",
   "metadata": {
    "colab_type": "text",
    "id": "P_Xp3_zWxSOg"
   },
   "source": [
    "# Preprocessing"
   ]
  },
  {
   "cell_type": "code",
   "execution_count": 64,
   "metadata": {
    "colab": {
     "base_uri": "https://localhost:8080/",
     "height": 429
    },
    "colab_type": "code",
    "executionInfo": {
     "elapsed": 42012,
     "status": "ok",
     "timestamp": 1598677578603,
     "user": {
      "displayName": "Gaurav Verma 119",
      "photoUrl": "https://lh3.googleusercontent.com/a-/AOh14GgzLA8PT_kmpW_8mwzWXqXGW6RSaxpSYPhLtQpfEQ=s64",
      "userId": "00609122792237149389"
     },
     "user_tz": -330
    },
    "id": "l6OzTQEew5er",
    "outputId": "9b17f142-259f-41dd-f92e-68fae7d637b7"
   },
   "outputs": [
    {
     "data": {
      "text/html": [
       "<div>\n",
       "<style scoped>\n",
       "    .dataframe tbody tr th:only-of-type {\n",
       "        vertical-align: middle;\n",
       "    }\n",
       "\n",
       "    .dataframe tbody tr th {\n",
       "        vertical-align: top;\n",
       "    }\n",
       "\n",
       "    .dataframe thead th {\n",
       "        text-align: right;\n",
       "    }\n",
       "</style>\n",
       "<table border=\"1\" class=\"dataframe\">\n",
       "  <thead>\n",
       "    <tr style=\"text-align: right;\">\n",
       "      <th></th>\n",
       "      <th>imdb_id</th>\n",
       "      <th>budget</th>\n",
       "      <th>revenue</th>\n",
       "      <th>original_title</th>\n",
       "      <th>cast</th>\n",
       "      <th>director</th>\n",
       "      <th>runtime</th>\n",
       "      <th>genres</th>\n",
       "      <th>production_companies</th>\n",
       "      <th>release_date</th>\n",
       "      <th>release_year</th>\n",
       "    </tr>\n",
       "  </thead>\n",
       "  <tbody>\n",
       "    <tr>\n",
       "      <th>0</th>\n",
       "      <td>tt0369610</td>\n",
       "      <td>150000000</td>\n",
       "      <td>1513528810</td>\n",
       "      <td>Jurassic World</td>\n",
       "      <td>Chris Pratt|Bryce Dallas Howard|Irrfan Khan|Vi...</td>\n",
       "      <td>Colin Trevorrow</td>\n",
       "      <td>124</td>\n",
       "      <td>Action|Adventure|Science Fiction|Thriller</td>\n",
       "      <td>Universal Studios|Amblin Entertainment|Legenda...</td>\n",
       "      <td>6/9/15</td>\n",
       "      <td>2015</td>\n",
       "    </tr>\n",
       "    <tr>\n",
       "      <th>1</th>\n",
       "      <td>tt1392190</td>\n",
       "      <td>150000000</td>\n",
       "      <td>378436354</td>\n",
       "      <td>Mad Max: Fury Road</td>\n",
       "      <td>Tom Hardy|Charlize Theron|Hugh Keays-Byrne|Nic...</td>\n",
       "      <td>George Miller</td>\n",
       "      <td>120</td>\n",
       "      <td>Action|Adventure|Science Fiction|Thriller</td>\n",
       "      <td>Village Roadshow Pictures|Kennedy Miller Produ...</td>\n",
       "      <td>5/13/15</td>\n",
       "      <td>2015</td>\n",
       "    </tr>\n",
       "    <tr>\n",
       "      <th>2</th>\n",
       "      <td>tt2908446</td>\n",
       "      <td>110000000</td>\n",
       "      <td>295238201</td>\n",
       "      <td>Insurgent</td>\n",
       "      <td>Shailene Woodley|Theo James|Kate Winslet|Ansel...</td>\n",
       "      <td>Robert Schwentke</td>\n",
       "      <td>119</td>\n",
       "      <td>Adventure|Science Fiction|Thriller</td>\n",
       "      <td>Summit Entertainment|Mandeville Films|Red Wago...</td>\n",
       "      <td>3/18/15</td>\n",
       "      <td>2015</td>\n",
       "    </tr>\n",
       "    <tr>\n",
       "      <th>3</th>\n",
       "      <td>tt2488496</td>\n",
       "      <td>200000000</td>\n",
       "      <td>2068178225</td>\n",
       "      <td>Star Wars: The Force Awakens</td>\n",
       "      <td>Harrison Ford|Mark Hamill|Carrie Fisher|Adam D...</td>\n",
       "      <td>J.J. Abrams</td>\n",
       "      <td>136</td>\n",
       "      <td>Action|Adventure|Science Fiction|Fantasy</td>\n",
       "      <td>Lucasfilm|Truenorth Productions|Bad Robot</td>\n",
       "      <td>12/15/15</td>\n",
       "      <td>2015</td>\n",
       "    </tr>\n",
       "    <tr>\n",
       "      <th>4</th>\n",
       "      <td>tt2820852</td>\n",
       "      <td>190000000</td>\n",
       "      <td>1506249360</td>\n",
       "      <td>Furious 7</td>\n",
       "      <td>Vin Diesel|Paul Walker|Jason Statham|Michelle ...</td>\n",
       "      <td>James Wan</td>\n",
       "      <td>137</td>\n",
       "      <td>Action|Crime|Thriller</td>\n",
       "      <td>Universal Pictures|Original Film|Media Rights ...</td>\n",
       "      <td>4/1/15</td>\n",
       "      <td>2015</td>\n",
       "    </tr>\n",
       "    <tr>\n",
       "      <th>5</th>\n",
       "      <td>tt1663202</td>\n",
       "      <td>135000000</td>\n",
       "      <td>532950503</td>\n",
       "      <td>The Revenant</td>\n",
       "      <td>Leonardo DiCaprio|Tom Hardy|Will Poulter|Domhn...</td>\n",
       "      <td>Alejandro GonzÃ¡lez IÃ±Ã¡rritu</td>\n",
       "      <td>156</td>\n",
       "      <td>Western|Drama|Adventure|Thriller</td>\n",
       "      <td>Regency Enterprises|Appian Way|CatchPlay|Anony...</td>\n",
       "      <td>12/25/15</td>\n",
       "      <td>2015</td>\n",
       "    </tr>\n",
       "  </tbody>\n",
       "</table>\n",
       "</div>"
      ],
      "text/plain": [
       "     imdb_id     budget     revenue                original_title  \\\n",
       "0  tt0369610  150000000  1513528810                Jurassic World   \n",
       "1  tt1392190  150000000   378436354            Mad Max: Fury Road   \n",
       "2  tt2908446  110000000   295238201                     Insurgent   \n",
       "3  tt2488496  200000000  2068178225  Star Wars: The Force Awakens   \n",
       "4  tt2820852  190000000  1506249360                     Furious 7   \n",
       "5  tt1663202  135000000   532950503                  The Revenant   \n",
       "\n",
       "                                                cast  \\\n",
       "0  Chris Pratt|Bryce Dallas Howard|Irrfan Khan|Vi...   \n",
       "1  Tom Hardy|Charlize Theron|Hugh Keays-Byrne|Nic...   \n",
       "2  Shailene Woodley|Theo James|Kate Winslet|Ansel...   \n",
       "3  Harrison Ford|Mark Hamill|Carrie Fisher|Adam D...   \n",
       "4  Vin Diesel|Paul Walker|Jason Statham|Michelle ...   \n",
       "5  Leonardo DiCaprio|Tom Hardy|Will Poulter|Domhn...   \n",
       "\n",
       "                         director  runtime  \\\n",
       "0                 Colin Trevorrow      124   \n",
       "1                   George Miller      120   \n",
       "2                Robert Schwentke      119   \n",
       "3                     J.J. Abrams      136   \n",
       "4                       James Wan      137   \n",
       "5  Alejandro GonzÃ¡lez IÃ±Ã¡rritu      156   \n",
       "\n",
       "                                      genres  \\\n",
       "0  Action|Adventure|Science Fiction|Thriller   \n",
       "1  Action|Adventure|Science Fiction|Thriller   \n",
       "2         Adventure|Science Fiction|Thriller   \n",
       "3   Action|Adventure|Science Fiction|Fantasy   \n",
       "4                      Action|Crime|Thriller   \n",
       "5           Western|Drama|Adventure|Thriller   \n",
       "\n",
       "                                production_companies release_date  \\\n",
       "0  Universal Studios|Amblin Entertainment|Legenda...       6/9/15   \n",
       "1  Village Roadshow Pictures|Kennedy Miller Produ...      5/13/15   \n",
       "2  Summit Entertainment|Mandeville Films|Red Wago...      3/18/15   \n",
       "3          Lucasfilm|Truenorth Productions|Bad Robot     12/15/15   \n",
       "4  Universal Pictures|Original Film|Media Rights ...       4/1/15   \n",
       "5  Regency Enterprises|Appian Way|CatchPlay|Anony...     12/25/15   \n",
       "\n",
       "   release_year  \n",
       "0          2015  \n",
       "1          2015  \n",
       "2          2015  \n",
       "3          2015  \n",
       "4          2015  \n",
       "5          2015  "
      ]
     },
     "execution_count": 64,
     "metadata": {},
     "output_type": "execute_result"
    }
   ],
   "source": [
    "delete_columns=['id','popularity','homepage','tagline','overview','keywords','vote_count','vote_average','budget_adj','revenue_adj']\n",
    "data.drop(delete_columns,axis=1,inplace=True)\n",
    "data.head(6)"
   ]
  },
  {
   "cell_type": "code",
   "execution_count": 65,
   "metadata": {
    "colab": {
     "base_uri": "https://localhost:8080/",
     "height": 34
    },
    "colab_type": "code",
    "executionInfo": {
     "elapsed": 41987,
     "status": "ok",
     "timestamp": 1598677578607,
     "user": {
      "displayName": "Gaurav Verma 119",
      "photoUrl": "https://lh3.googleusercontent.com/a-/AOh14GgzLA8PT_kmpW_8mwzWXqXGW6RSaxpSYPhLtQpfEQ=s64",
      "userId": "00609122792237149389"
     },
     "user_tz": -330
    },
    "id": "RcQf-LScw5bT",
    "outputId": "1397d1ae-7976-434b-b820-3127a54e84b6"
   },
   "outputs": [
    {
     "name": "stdout",
     "output_type": "stream",
     "text": [
      "Total No of Rows in data are   10866\n"
     ]
    }
   ],
   "source": [
    "print(\"Total No of Rows in data are  \",len(data))"
   ]
  },
  {
   "cell_type": "code",
   "execution_count": 66,
   "metadata": {
    "colab": {
     "base_uri": "https://localhost:8080/",
     "height": 34
    },
    "colab_type": "code",
    "executionInfo": {
     "elapsed": 41959,
     "status": "ok",
     "timestamp": 1598677578611,
     "user": {
      "displayName": "Gaurav Verma 119",
      "photoUrl": "https://lh3.googleusercontent.com/a-/AOh14GgzLA8PT_kmpW_8mwzWXqXGW6RSaxpSYPhLtQpfEQ=s64",
      "userId": "00609122792237149389"
     },
     "user_tz": -330
    },
    "id": "wjClLp_sw5ZB",
    "outputId": "4d94dc1b-8d08-4a47-a668-014e2611a51b"
   },
   "outputs": [
    {
     "name": "stdout",
     "output_type": "stream",
     "text": [
      "Total No of Rows in data are   10856\n"
     ]
    }
   ],
   "source": [
    "data=data.drop_duplicates(subset='imdb_id',keep='first')\n",
    "print(\"Total No of Rows in data are  \",len(data))"
   ]
  },
  {
   "cell_type": "code",
   "execution_count": 67,
   "metadata": {
    "colab": {
     "base_uri": "https://localhost:8080/",
     "height": 34
    },
    "colab_type": "code",
    "executionInfo": {
     "elapsed": 41934,
     "status": "ok",
     "timestamp": 1598677578614,
     "user": {
      "displayName": "Gaurav Verma 119",
      "photoUrl": "https://lh3.googleusercontent.com/a-/AOh14GgzLA8PT_kmpW_8mwzWXqXGW6RSaxpSYPhLtQpfEQ=s64",
      "userId": "00609122792237149389"
     },
     "user_tz": -330
    },
    "id": "gsevKI8Kw5Ws",
    "outputId": "17c0a617-eaa0-4697-cd0a-cc6c818eded4"
   },
   "outputs": [
    {
     "data": {
      "text/plain": [
       "10856"
      ]
     },
     "execution_count": 67,
     "metadata": {},
     "output_type": "execute_result"
    }
   ],
   "source": [
    "#check whether all the Id's are Unique or not\n",
    "data.imdb_id.unique().shape[0]"
   ]
  },
  {
   "cell_type": "code",
   "execution_count": 68,
   "metadata": {
    "colab": {
     "base_uri": "https://localhost:8080/",
     "height": 330
    },
    "colab_type": "code",
    "executionInfo": {
     "elapsed": 41908,
     "status": "ok",
     "timestamp": 1598677578616,
     "user": {
      "displayName": "Gaurav Verma 119",
      "photoUrl": "https://lh3.googleusercontent.com/a-/AOh14GgzLA8PT_kmpW_8mwzWXqXGW6RSaxpSYPhLtQpfEQ=s64",
      "userId": "00609122792237149389"
     },
     "user_tz": -330
    },
    "id": "l6i_3D-Lw5UP",
    "outputId": "c4f21dee-fa1b-48c1-8bb5-7081a6c7dfbe"
   },
   "outputs": [
    {
     "name": "stdout",
     "output_type": "stream",
     "text": [
      "<class 'pandas.core.frame.DataFrame'>\n",
      "Int64Index: 10856 entries, 0 to 10865\n",
      "Data columns (total 11 columns):\n",
      " #   Column                Non-Null Count  Dtype \n",
      "---  ------                --------------  ----- \n",
      " 0   imdb_id               10855 non-null  object\n",
      " 1   budget                10856 non-null  int64 \n",
      " 2   revenue               10856 non-null  int64 \n",
      " 3   original_title        10856 non-null  object\n",
      " 4   cast                  10780 non-null  object\n",
      " 5   director              10815 non-null  object\n",
      " 6   runtime               10856 non-null  int64 \n",
      " 7   genres                10835 non-null  object\n",
      " 8   production_companies  9831 non-null   object\n",
      " 9   release_date          10856 non-null  object\n",
      " 10  release_year          10856 non-null  int64 \n",
      "dtypes: int64(4), object(7)\n",
      "memory usage: 1017.8+ KB\n"
     ]
    }
   ],
   "source": [
    "#quick snap of Null and Non Null Values in the present dataset \n",
    "data.info()"
   ]
  },
  {
   "cell_type": "code",
   "execution_count": 69,
   "metadata": {
    "colab": {
     "base_uri": "https://localhost:8080/",
     "height": 34
    },
    "colab_type": "code",
    "executionInfo": {
     "elapsed": 41887,
     "status": "ok",
     "timestamp": 1598677578621,
     "user": {
      "displayName": "Gaurav Verma 119",
      "photoUrl": "https://lh3.googleusercontent.com/a-/AOh14GgzLA8PT_kmpW_8mwzWXqXGW6RSaxpSYPhLtQpfEQ=s64",
      "userId": "00609122792237149389"
     },
     "user_tz": -330
    },
    "id": "ZB74reI5w5R5",
    "outputId": "b3350664-c784-467b-c707-e2cb48f9abe5"
   },
   "outputs": [
    {
     "data": {
      "text/plain": [
       "True"
      ]
     },
     "execution_count": 69,
     "metadata": {},
     "output_type": "execute_result"
    }
   ],
   "source": [
    "#check the Presence of NA in IMDB_ID Cols\n",
    "data.imdb_id.isna().any()"
   ]
  },
  {
   "cell_type": "code",
   "execution_count": 70,
   "metadata": {
    "colab": {},
    "colab_type": "code",
    "executionInfo": {
     "elapsed": 41868,
     "status": "ok",
     "timestamp": 1598677578623,
     "user": {
      "displayName": "Gaurav Verma 119",
      "photoUrl": "https://lh3.googleusercontent.com/a-/AOh14GgzLA8PT_kmpW_8mwzWXqXGW6RSaxpSYPhLtQpfEQ=s64",
      "userId": "00609122792237149389"
     },
     "user_tz": -330
    },
    "id": "Ex-A8mf-w5P2"
   },
   "outputs": [],
   "source": [
    "#drop the movie which do not have any IMDB id at all\n",
    "data.imdb_id.dropna(inplace=True)"
   ]
  },
  {
   "cell_type": "code",
   "execution_count": 71,
   "metadata": {
    "colab": {
     "base_uri": "https://localhost:8080/",
     "height": 34
    },
    "colab_type": "code",
    "executionInfo": {
     "elapsed": 41849,
     "status": "ok",
     "timestamp": 1598677578625,
     "user": {
      "displayName": "Gaurav Verma 119",
      "photoUrl": "https://lh3.googleusercontent.com/a-/AOh14GgzLA8PT_kmpW_8mwzWXqXGW6RSaxpSYPhLtQpfEQ=s64",
      "userId": "00609122792237149389"
     },
     "user_tz": -330
    },
    "id": "--vfKd3sw5M5",
    "outputId": "86ee3d3b-5056-49a3-c6aa-cf0ababd6b70"
   },
   "outputs": [
    {
     "data": {
      "text/plain": [
       "False"
      ]
     },
     "execution_count": 71,
     "metadata": {},
     "output_type": "execute_result"
    }
   ],
   "source": [
    "#recheck the Presence of NA in IMDB_ID Cols\n",
    "data.imdb_id.isna().any()"
   ]
  },
  {
   "cell_type": "code",
   "execution_count": 72,
   "metadata": {
    "colab": {
     "base_uri": "https://localhost:8080/",
     "height": 225
    },
    "colab_type": "code",
    "executionInfo": {
     "elapsed": 41821,
     "status": "ok",
     "timestamp": 1598677578627,
     "user": {
      "displayName": "Gaurav Verma 119",
      "photoUrl": "https://lh3.googleusercontent.com/a-/AOh14GgzLA8PT_kmpW_8mwzWXqXGW6RSaxpSYPhLtQpfEQ=s64",
      "userId": "00609122792237149389"
     },
     "user_tz": -330
    },
    "id": "FKNBCoC82692",
    "outputId": "d3e94ba6-460b-4813-cc6f-d65cbda95e95"
   },
   "outputs": [
    {
     "data": {
      "text/plain": [
       "imdb_id                    1\n",
       "budget                     0\n",
       "revenue                    0\n",
       "original_title             0\n",
       "cast                      76\n",
       "director                  41\n",
       "runtime                    0\n",
       "genres                    21\n",
       "production_companies    1025\n",
       "release_date               0\n",
       "release_year               0\n",
       "dtype: int64"
      ]
     },
     "execution_count": 72,
     "metadata": {},
     "output_type": "execute_result"
    }
   ],
   "source": [
    "#check the Total Na values present in Each data columns\n",
    "data.isnull().sum()"
   ]
  },
  {
   "cell_type": "markdown",
   "metadata": {
    "colab_type": "text",
    "id": "p4f5Fm5O3wxR"
   },
   "source": [
    "So From This Point We're Done With Out Data Cleaning Part And rest Other Cleaning Part is Done according to the Question to maintain the acccuracy of answers"
   ]
  },
  {
   "cell_type": "markdown",
   "metadata": {
    "colab_type": "text",
    "id": "-aUbh0IN4QJp"
   },
   "source": [
    "# Ques 1: Which are the movies with the third lowest and third highest budget?"
   ]
  },
  {
   "cell_type": "code",
   "execution_count": 73,
   "metadata": {
    "colab": {
     "base_uri": "https://localhost:8080/",
     "height": 34
    },
    "colab_type": "code",
    "executionInfo": {
     "elapsed": 41796,
     "status": "ok",
     "timestamp": 1598677578632,
     "user": {
      "displayName": "Gaurav Verma 119",
      "photoUrl": "https://lh3.googleusercontent.com/a-/AOh14GgzLA8PT_kmpW_8mwzWXqXGW6RSaxpSYPhLtQpfEQ=s64",
      "userId": "00609122792237149389"
     },
     "user_tz": -330
    },
    "id": "9XFsKouT3czk",
    "outputId": "c98e7010-a755-423c-df78-d70eeb7e8d79"
   },
   "outputs": [
    {
     "data": {
      "text/plain": [
       "False"
      ]
     },
     "execution_count": 73,
     "metadata": {},
     "output_type": "execute_result"
    }
   ],
   "source": [
    "data1=data[data.budget != 0]\n",
    "data1.budget.isna().values.any()"
   ]
  },
  {
   "cell_type": "code",
   "execution_count": 74,
   "metadata": {
    "colab": {
     "base_uri": "https://localhost:8080/",
     "height": 225
    },
    "colab_type": "code",
    "executionInfo": {
     "elapsed": 41774,
     "status": "ok",
     "timestamp": 1598677578635,
     "user": {
      "displayName": "Gaurav Verma 119",
      "photoUrl": "https://lh3.googleusercontent.com/a-/AOh14GgzLA8PT_kmpW_8mwzWXqXGW6RSaxpSYPhLtQpfEQ=s64",
      "userId": "00609122792237149389"
     },
     "user_tz": -330
    },
    "id": "HVKG51k34XeP",
    "outputId": "a274b25e-d49e-4689-9697-7349cec1f7ca"
   },
   "outputs": [
    {
     "data": {
      "text/plain": [
       "imdb_id                                                         tt0449088\n",
       "budget                                                          300000000\n",
       "revenue                                                         961000000\n",
       "original_title                   Pirates of the Caribbean: At World's End\n",
       "cast                    Johnny Depp|Orlando Bloom|Keira Knightley|Geof...\n",
       "director                                                   Gore Verbinski\n",
       "runtime                                                               169\n",
       "genres                                           Adventure|Fantasy|Action\n",
       "production_companies    Walt Disney Pictures|Jerry Bruckheimer Films|S...\n",
       "release_date                                                      5/19/07\n",
       "release_year                                                         2007\n",
       "Name: 7387, dtype: object"
      ]
     },
     "execution_count": 74,
     "metadata": {},
     "output_type": "execute_result"
    }
   ],
   "source": [
    "#Movie with 3rd largest budget in Hollywood\n",
    "ans_1=data1.loc[data1.budget.drop_duplicates().nlargest(5).index[2]]\n",
    "ans_1"
   ]
  },
  {
   "cell_type": "code",
   "execution_count": 75,
   "metadata": {
    "colab": {
     "base_uri": "https://localhost:8080/",
     "height": 52
    },
    "colab_type": "code",
    "executionInfo": {
     "elapsed": 41750,
     "status": "ok",
     "timestamp": 1598677578637,
     "user": {
      "displayName": "Gaurav Verma 119",
      "photoUrl": "https://lh3.googleusercontent.com/a-/AOh14GgzLA8PT_kmpW_8mwzWXqXGW6RSaxpSYPhLtQpfEQ=s64",
      "userId": "00609122792237149389"
     },
     "user_tz": -330
    },
    "id": "eejEo3Ta4aYW",
    "outputId": "454d99c0-e0e2-4d5a-b781-c4be81ff00e3"
   },
   "outputs": [
    {
     "name": "stdout",
     "output_type": "stream",
     "text": [
      "Movie with 3rd largest budget in Hollywood ---------------------->\n",
      "Pirates of the Caribbean: At World's End\n"
     ]
    }
   ],
   "source": [
    "print(\"Movie with 3rd largest budget in Hollywood ---------------------->\")\n",
    "print(ans_1.original_title)"
   ]
  },
  {
   "cell_type": "code",
   "execution_count": 76,
   "metadata": {
    "colab": {
     "base_uri": "https://localhost:8080/",
     "height": 116
    },
    "colab_type": "code",
    "executionInfo": {
     "elapsed": 41725,
     "status": "ok",
     "timestamp": 1598677578638,
     "user": {
      "displayName": "Gaurav Verma 119",
      "photoUrl": "https://lh3.googleusercontent.com/a-/AOh14GgzLA8PT_kmpW_8mwzWXqXGW6RSaxpSYPhLtQpfEQ=s64",
      "userId": "00609122792237149389"
     },
     "user_tz": -330
    },
    "id": "hB8fwXxW4oaS",
    "outputId": "81b74859-c3ba-4012-994d-76861baa5102"
   },
   "outputs": [
    {
     "data": {
      "text/html": [
       "<div>\n",
       "<style scoped>\n",
       "    .dataframe tbody tr th:only-of-type {\n",
       "        vertical-align: middle;\n",
       "    }\n",
       "\n",
       "    .dataframe tbody tr th {\n",
       "        vertical-align: top;\n",
       "    }\n",
       "\n",
       "    .dataframe thead th {\n",
       "        text-align: right;\n",
       "    }\n",
       "</style>\n",
       "<table border=\"1\" class=\"dataframe\">\n",
       "  <thead>\n",
       "    <tr style=\"text-align: right;\">\n",
       "      <th></th>\n",
       "      <th>imdb_id</th>\n",
       "      <th>budget</th>\n",
       "      <th>revenue</th>\n",
       "      <th>original_title</th>\n",
       "      <th>cast</th>\n",
       "      <th>director</th>\n",
       "      <th>runtime</th>\n",
       "      <th>genres</th>\n",
       "      <th>production_companies</th>\n",
       "      <th>release_date</th>\n",
       "      <th>release_year</th>\n",
       "    </tr>\n",
       "  </thead>\n",
       "  <tbody>\n",
       "    <tr>\n",
       "      <th>7387</th>\n",
       "      <td>tt0449088</td>\n",
       "      <td>300000000</td>\n",
       "      <td>961000000</td>\n",
       "      <td>Pirates of the Caribbean: At World's End</td>\n",
       "      <td>Johnny Depp|Orlando Bloom|Keira Knightley|Geof...</td>\n",
       "      <td>Gore Verbinski</td>\n",
       "      <td>169</td>\n",
       "      <td>Adventure|Fantasy|Action</td>\n",
       "      <td>Walt Disney Pictures|Jerry Bruckheimer Films|S...</td>\n",
       "      <td>5/19/07</td>\n",
       "      <td>2007</td>\n",
       "    </tr>\n",
       "  </tbody>\n",
       "</table>\n",
       "</div>"
      ],
      "text/plain": [
       "        imdb_id     budget    revenue  \\\n",
       "7387  tt0449088  300000000  961000000   \n",
       "\n",
       "                                original_title  \\\n",
       "7387  Pirates of the Caribbean: At World's End   \n",
       "\n",
       "                                                   cast        director  \\\n",
       "7387  Johnny Depp|Orlando Bloom|Keira Knightley|Geof...  Gore Verbinski   \n",
       "\n",
       "      runtime                    genres  \\\n",
       "7387      169  Adventure|Fantasy|Action   \n",
       "\n",
       "                                   production_companies release_date  \\\n",
       "7387  Walt Disney Pictures|Jerry Bruckheimer Films|S...      5/19/07   \n",
       "\n",
       "      release_year  \n",
       "7387          2007  "
      ]
     },
     "execution_count": 76,
     "metadata": {},
     "output_type": "execute_result"
    }
   ],
   "source": [
    "#other Movies with same budget are \n",
    "data[data.budget == data1.budget.drop_duplicates().nlargest(10).iloc[2]]"
   ]
  },
  {
   "cell_type": "code",
   "execution_count": 77,
   "metadata": {
    "colab": {
     "base_uri": "https://localhost:8080/",
     "height": 225
    },
    "colab_type": "code",
    "executionInfo": {
     "elapsed": 41700,
     "status": "ok",
     "timestamp": 1598677578639,
     "user": {
      "displayName": "Gaurav Verma 119",
      "photoUrl": "https://lh3.googleusercontent.com/a-/AOh14GgzLA8PT_kmpW_8mwzWXqXGW6RSaxpSYPhLtQpfEQ=s64",
      "userId": "00609122792237149389"
     },
     "user_tz": -330
    },
    "id": "6dKXv4GM52mu",
    "outputId": "6bfc5621-a6b1-48ed-a00c-f2d2c5e67500"
   },
   "outputs": [
    {
     "data": {
      "text/plain": [
       "imdb_id                                                         tt1560139\n",
       "budget                                                                  3\n",
       "revenue                                                                43\n",
       "original_title                                                        Boy\n",
       "cast                    James Rolleston|Craig Hall|Taika Waititi|Te Ah...\n",
       "director                                                    Taika Waititi\n",
       "runtime                                                                87\n",
       "genres                                                       Drama|Comedy\n",
       "production_companies    New Zealand Film Commission|Unison Films|Whenu...\n",
       "release_date                                                      2/14/10\n",
       "release_year                                                         2010\n",
       "Name: 2398, dtype: object"
      ]
     },
     "execution_count": 77,
     "metadata": {},
     "output_type": "execute_result"
    }
   ],
   "source": [
    "#Movie with third lowest Budget In Hollywood is\n",
    "ans_1_b=data.loc[data1.budget.drop_duplicates().nsmallest(5).index[2]]\n",
    "ans_1_b"
   ]
  },
  {
   "cell_type": "code",
   "execution_count": 78,
   "metadata": {
    "colab": {
     "base_uri": "https://localhost:8080/",
     "height": 52
    },
    "colab_type": "code",
    "executionInfo": {
     "elapsed": 41676,
     "status": "ok",
     "timestamp": 1598677578640,
     "user": {
      "displayName": "Gaurav Verma 119",
      "photoUrl": "https://lh3.googleusercontent.com/a-/AOh14GgzLA8PT_kmpW_8mwzWXqXGW6RSaxpSYPhLtQpfEQ=s64",
      "userId": "00609122792237149389"
     },
     "user_tz": -330
    },
    "id": "fCVkCvEj6Z1c",
    "outputId": "9b4678d7-4a2e-4c3a-acbc-1896fd4f661b"
   },
   "outputs": [
    {
     "name": "stdout",
     "output_type": "stream",
     "text": [
      "Movie with 3rd lowest budget in Hollywood ---------------------->\n",
      "Boy\n"
     ]
    }
   ],
   "source": [
    "print(\"Movie with 3rd lowest budget in Hollywood ---------------------->\")\n",
    "print(ans_1_b.original_title)"
   ]
  },
  {
   "cell_type": "code",
   "execution_count": 79,
   "metadata": {
    "colab": {
     "base_uri": "https://localhost:8080/",
     "height": 86
    },
    "colab_type": "code",
    "executionInfo": {
     "elapsed": 41653,
     "status": "ok",
     "timestamp": 1598677578643,
     "user": {
      "displayName": "Gaurav Verma 119",
      "photoUrl": "https://lh3.googleusercontent.com/a-/AOh14GgzLA8PT_kmpW_8mwzWXqXGW6RSaxpSYPhLtQpfEQ=s64",
      "userId": "00609122792237149389"
     },
     "user_tz": -330
    },
    "id": "VbdiKOHD6ngo",
    "outputId": "7a80948e-9f3f-46aa-c29e-44b18a8bfe67"
   },
   "outputs": [
    {
     "data": {
      "text/plain": [
       "2398                                    Boy\n",
       "3765                   Death of a Superhero\n",
       "10050    Tales from the Darkside: The Movie\n",
       "Name: original_title, dtype: object"
      ]
     },
     "execution_count": 79,
     "metadata": {},
     "output_type": "execute_result"
    }
   ],
   "source": [
    "#other Movies with same budget are \n",
    "data[data.budget == data1.budget.drop_duplicates().nsmallest(5).iloc[2]].original_title"
   ]
  },
  {
   "cell_type": "code",
   "execution_count": null,
   "metadata": {
    "colab": {},
    "colab_type": "code",
    "executionInfo": {
     "elapsed": 41634,
     "status": "ok",
     "timestamp": 1598677578643,
     "user": {
      "displayName": "Gaurav Verma 119",
      "photoUrl": "https://lh3.googleusercontent.com/a-/AOh14GgzLA8PT_kmpW_8mwzWXqXGW6RSaxpSYPhLtQpfEQ=s64",
      "userId": "00609122792237149389"
     },
     "user_tz": -330
    },
    "id": "nK3OkVIC6pBL"
   },
   "outputs": [],
   "source": []
  },
  {
   "cell_type": "markdown",
   "metadata": {
    "colab_type": "text",
    "id": "wXBciy9H6sl6"
   },
   "source": [
    "# Ques 2: What is the average number of words in movie titles between the year 2000-2005?"
   ]
  },
  {
   "cell_type": "code",
   "execution_count": 80,
   "metadata": {
    "colab": {
     "base_uri": "https://localhost:8080/",
     "height": 34
    },
    "colab_type": "code",
    "executionInfo": {
     "elapsed": 41619,
     "status": "ok",
     "timestamp": 1598677578645,
     "user": {
      "displayName": "Gaurav Verma 119",
      "photoUrl": "https://lh3.googleusercontent.com/a-/AOh14GgzLA8PT_kmpW_8mwzWXqXGW6RSaxpSYPhLtQpfEQ=s64",
      "userId": "00609122792237149389"
     },
     "user_tz": -330
    },
    "id": "BsU51zln6umS",
    "outputId": "95b90d6c-a445-4c6f-a17e-ea0b775cc45c"
   },
   "outputs": [
    {
     "data": {
      "text/plain": [
       "False"
      ]
     },
     "execution_count": 80,
     "metadata": {},
     "output_type": "execute_result"
    }
   ],
   "source": [
    "data2=data[(data.release_year >2000) & (data.release_year <2005)].original_title\n",
    "data2.isna().any()"
   ]
  },
  {
   "cell_type": "code",
   "execution_count": 81,
   "metadata": {
    "colab": {
     "base_uri": "https://localhost:8080/",
     "height": 121
    },
    "colab_type": "code",
    "executionInfo": {
     "elapsed": 41592,
     "status": "ok",
     "timestamp": 1598677578646,
     "user": {
      "displayName": "Gaurav Verma 119",
      "photoUrl": "https://lh3.googleusercontent.com/a-/AOh14GgzLA8PT_kmpW_8mwzWXqXGW6RSaxpSYPhLtQpfEQ=s64",
      "userId": "00609122792237149389"
     },
     "user_tz": -330
    },
    "id": "H5YxR47r6-LH",
    "outputId": "e5f819f0-ee1c-4d23-d6e8-1b045e8b6d6c"
   },
   "outputs": [
    {
     "data": {
      "text/plain": [
       "2633    The Lord of the Rings: The Fellowship of the Ring\n",
       "2634             Harry Potter and the Philosopher's Stone\n",
       "2635                                     Mulholland Drive\n",
       "2636                                         Donnie Darko\n",
       "2637                                       Monsters, Inc.\n",
       "Name: original_title, dtype: object"
      ]
     },
     "execution_count": 81,
     "metadata": {},
     "output_type": "execute_result"
    }
   ],
   "source": [
    "data2.head()"
   ]
  },
  {
   "cell_type": "code",
   "execution_count": 82,
   "metadata": {
    "colab": {
     "base_uri": "https://localhost:8080/",
     "height": 34
    },
    "colab_type": "code",
    "executionInfo": {
     "elapsed": 41573,
     "status": "ok",
     "timestamp": 1598677578652,
     "user": {
      "displayName": "Gaurav Verma 119",
      "photoUrl": "https://lh3.googleusercontent.com/a-/AOh14GgzLA8PT_kmpW_8mwzWXqXGW6RSaxpSYPhLtQpfEQ=s64",
      "userId": "00609122792237149389"
     },
     "user_tz": -330
    },
    "id": "SV-onBDW7O9L",
    "outputId": "e711f01d-3796-4c8d-ce02-a3ead675fa12"
   },
   "outputs": [
    {
     "name": "stdout",
     "output_type": "stream",
     "text": [
      "The average number of words in movie titles between the year 2000-2005  is -------------     2.8731751824817517\n"
     ]
    }
   ],
   "source": [
    "answer_2= data2.str.split().apply(len).mean()\n",
    "print(\"The average number of words in movie titles between the year 2000-2005  is -------------    \",answer_2)"
   ]
  },
  {
   "cell_type": "markdown",
   "metadata": {
    "colab_type": "text",
    "id": "tIE-cBPD7ePw"
   },
   "source": [
    "# Question 3 : What is the most common Genre for Vin Diesel & Emma Watson movies"
   ]
  },
  {
   "cell_type": "code",
   "execution_count": 83,
   "metadata": {
    "colab": {},
    "colab_type": "code",
    "executionInfo": {
     "elapsed": 41558,
     "status": "ok",
     "timestamp": 1598677578654,
     "user": {
      "displayName": "Gaurav Verma 119",
      "photoUrl": "https://lh3.googleusercontent.com/a-/AOh14GgzLA8PT_kmpW_8mwzWXqXGW6RSaxpSYPhLtQpfEQ=s64",
      "userId": "00609122792237149389"
     },
     "user_tz": -330
    },
    "id": "EKpreUkF7SVS"
   },
   "outputs": [],
   "source": [
    "def fil(a):\n",
    "  #a=a.split('|')\n",
    "  try:\n",
    "    if 'Vin Diesel'in a :\n",
    "      return True\n",
    "    else:\n",
    "      return False\n",
    "  except:\n",
    "    return False"
   ]
  },
  {
   "cell_type": "code",
   "execution_count": 84,
   "metadata": {
    "colab": {
     "base_uri": "https://localhost:8080/",
     "height": 34
    },
    "colab_type": "code",
    "executionInfo": {
     "elapsed": 41532,
     "status": "ok",
     "timestamp": 1598677578655,
     "user": {
      "displayName": "Gaurav Verma 119",
      "photoUrl": "https://lh3.googleusercontent.com/a-/AOh14GgzLA8PT_kmpW_8mwzWXqXGW6RSaxpSYPhLtQpfEQ=s64",
      "userId": "00609122792237149389"
     },
     "user_tz": -330
    },
    "id": "31ETeYcJ7hbK",
    "outputId": "482f4a80-fb84-41c6-f9d5-8ec4b9887a12"
   },
   "outputs": [
    {
     "data": {
      "text/plain": [
       "22"
      ]
     },
     "execution_count": 84,
     "metadata": {},
     "output_type": "execute_result"
    }
   ],
   "source": [
    "d=data.cast.str.split('|').apply(fil)\n",
    "data3_vin=data[d]\n",
    "len(data[d])"
   ]
  },
  {
   "cell_type": "code",
   "execution_count": 85,
   "metadata": {
    "colab": {
     "base_uri": "https://localhost:8080/",
     "height": 88
    },
    "colab_type": "code",
    "executionInfo": {
     "elapsed": 41508,
     "status": "ok",
     "timestamp": 1598677578657,
     "user": {
      "displayName": "Gaurav Verma 119",
      "photoUrl": "https://lh3.googleusercontent.com/a-/AOh14GgzLA8PT_kmpW_8mwzWXqXGW6RSaxpSYPhLtQpfEQ=s64",
      "userId": "00609122792237149389"
     },
     "user_tz": -330
    },
    "id": "L69a7DK17hY3",
    "outputId": "ce742304-9971-455d-d3ec-e8b962ad1548"
   },
   "outputs": [
    {
     "data": {
      "text/plain": [
       "'Action|Crime|Thriller|Fantasy|Action|Adventure|Action|Science Fiction|Adventure|Action|Crime|Drama|Thriller|Action|Drama|Adventure|Animation|Family|Fantasy|Science Fiction|Action|Crime|Thriller|Crime|Thriller|Action|Adventure|Science Fiction|Thriller|Action|Thriller|Crime|Action|Action|Drama|Action|Science Fiction|Action|Thriller|Action|Thriller|Crime|Action|Animation|Science Fiction|Action|Comedy|Drama|Family|Thriller|Drama|Action|Comedy|Crime|Adventure|Action|Thriller|Science Fiction|Action|Animation|Science Fiction|Thriller|Thriller|Science Fiction|Action|Crime|Drama|Thriller'"
      ]
     },
     "execution_count": 85,
     "metadata": {},
     "output_type": "execute_result"
    }
   ],
   "source": [
    "temp_vin=\"|\".join(data3_vin.genres)\n",
    "temp_vin"
   ]
  },
  {
   "cell_type": "code",
   "execution_count": 86,
   "metadata": {
    "colab": {
     "base_uri": "https://localhost:8080/",
     "height": 34
    },
    "colab_type": "code",
    "executionInfo": {
     "elapsed": 41483,
     "status": "ok",
     "timestamp": 1598677578659,
     "user": {
      "displayName": "Gaurav Verma 119",
      "photoUrl": "https://lh3.googleusercontent.com/a-/AOh14GgzLA8PT_kmpW_8mwzWXqXGW6RSaxpSYPhLtQpfEQ=s64",
      "userId": "00609122792237149389"
     },
     "user_tz": -330
    },
    "id": "ZzySMwOz7hXI",
    "outputId": "8d4c7ba3-5803-4128-80ea-efb482e011b5"
   },
   "outputs": [
    {
     "data": {
      "text/plain": [
       "['Action', 'Thriller', 'Crime', 'Science Fiction', 'Drama', 'Adventure']"
      ]
     },
     "execution_count": 86,
     "metadata": {},
     "output_type": "execute_result"
    }
   ],
   "source": [
    "ans_3_a=Counter(temp_vin.split('|')).most_common(6)\n",
    "ans_3_a=[*dict(ans_3_a)]\n",
    "ans_3_a"
   ]
  },
  {
   "cell_type": "code",
   "execution_count": 87,
   "metadata": {
    "colab": {},
    "colab_type": "code",
    "executionInfo": {
     "elapsed": 41469,
     "status": "ok",
     "timestamp": 1598677578661,
     "user": {
      "displayName": "Gaurav Verma 119",
      "photoUrl": "https://lh3.googleusercontent.com/a-/AOh14GgzLA8PT_kmpW_8mwzWXqXGW6RSaxpSYPhLtQpfEQ=s64",
      "userId": "00609122792237149389"
     },
     "user_tz": -330
    },
    "id": "Xthi7KEX7hVO"
   },
   "outputs": [],
   "source": [
    "def fill(a):\n",
    "  #a=a.split('|')\n",
    "  try:\n",
    "    if 'Emma Watson'in a :\n",
    "      return True\n",
    "    else:\n",
    "      return False\n",
    "  except:\n",
    "    return False"
   ]
  },
  {
   "cell_type": "code",
   "execution_count": 88,
   "metadata": {
    "colab": {
     "base_uri": "https://localhost:8080/",
     "height": 34
    },
    "colab_type": "code",
    "executionInfo": {
     "elapsed": 41454,
     "status": "ok",
     "timestamp": 1598677578663,
     "user": {
      "displayName": "Gaurav Verma 119",
      "photoUrl": "https://lh3.googleusercontent.com/a-/AOh14GgzLA8PT_kmpW_8mwzWXqXGW6RSaxpSYPhLtQpfEQ=s64",
      "userId": "00609122792237149389"
     },
     "user_tz": -330
    },
    "id": "jjfteUJ87hTe",
    "outputId": "813d55d7-5d83-4505-893b-48bd2ba21ca1"
   },
   "outputs": [
    {
     "data": {
      "text/plain": [
       "14"
      ]
     },
     "execution_count": 88,
     "metadata": {},
     "output_type": "execute_result"
    }
   ],
   "source": [
    "d2=data.cast.str.split('|').apply(fill)\n",
    "data3_emma=data[d2]\n",
    "len(data3_emma)"
   ]
  },
  {
   "cell_type": "code",
   "execution_count": 89,
   "metadata": {
    "colab": {
     "base_uri": "https://localhost:8080/",
     "height": 248
    },
    "colab_type": "code",
    "executionInfo": {
     "elapsed": 41431,
     "status": "ok",
     "timestamp": 1598677578664,
     "user": {
      "displayName": "Gaurav Verma 119",
      "photoUrl": "https://lh3.googleusercontent.com/a-/AOh14GgzLA8PT_kmpW_8mwzWXqXGW6RSaxpSYPhLtQpfEQ=s64",
      "userId": "00609122792237149389"
     },
     "user_tz": -330
    },
    "id": "Vg3rruEc7hRM",
    "outputId": "6cc66975-8186-42b0-c952-b80b97e7b7e9"
   },
   "outputs": [
    {
     "data": {
      "text/html": [
       "<div>\n",
       "<style scoped>\n",
       "    .dataframe tbody tr th:only-of-type {\n",
       "        vertical-align: middle;\n",
       "    }\n",
       "\n",
       "    .dataframe tbody tr th {\n",
       "        vertical-align: top;\n",
       "    }\n",
       "\n",
       "    .dataframe thead th {\n",
       "        text-align: right;\n",
       "    }\n",
       "</style>\n",
       "<table border=\"1\" class=\"dataframe\">\n",
       "  <thead>\n",
       "    <tr style=\"text-align: right;\">\n",
       "      <th></th>\n",
       "      <th>imdb_id</th>\n",
       "      <th>budget</th>\n",
       "      <th>revenue</th>\n",
       "      <th>original_title</th>\n",
       "      <th>cast</th>\n",
       "      <th>director</th>\n",
       "      <th>runtime</th>\n",
       "      <th>genres</th>\n",
       "      <th>production_companies</th>\n",
       "      <th>release_date</th>\n",
       "      <th>release_year</th>\n",
       "    </tr>\n",
       "  </thead>\n",
       "  <tbody>\n",
       "    <tr>\n",
       "      <th>146</th>\n",
       "      <td>tt3319920</td>\n",
       "      <td>0</td>\n",
       "      <td>17671101</td>\n",
       "      <td>Regression</td>\n",
       "      <td>Ethan Hawke|Emma Watson|Aaron Ashmore|Devon Bo...</td>\n",
       "      <td>Alejandro AmenÃ¡bar</td>\n",
       "      <td>106</td>\n",
       "      <td>Horror|Mystery|Thriller</td>\n",
       "      <td>The Weinstein Company|HimenÃ³ptero|First Gener...</td>\n",
       "      <td>10/1/15</td>\n",
       "      <td>2015</td>\n",
       "    </tr>\n",
       "    <tr>\n",
       "      <th>686</th>\n",
       "      <td>tt1959490</td>\n",
       "      <td>125000000</td>\n",
       "      <td>362637473</td>\n",
       "      <td>Noah</td>\n",
       "      <td>Russell Crowe|Jennifer Connelly|Emma Watson|Lo...</td>\n",
       "      <td>Darren Aronofsky</td>\n",
       "      <td>139</td>\n",
       "      <td>Drama|Adventure</td>\n",
       "      <td>Paramount Pictures|Regency Enterprises|Protozo...</td>\n",
       "      <td>3/20/14</td>\n",
       "      <td>2014</td>\n",
       "    </tr>\n",
       "    <tr>\n",
       "      <th>1389</th>\n",
       "      <td>tt0417741</td>\n",
       "      <td>250000000</td>\n",
       "      <td>933959197</td>\n",
       "      <td>Harry Potter and the Half-Blood Prince</td>\n",
       "      <td>Daniel Radcliffe|Rupert Grint|Emma Watson|Tom ...</td>\n",
       "      <td>David Yates</td>\n",
       "      <td>153</td>\n",
       "      <td>Adventure|Fantasy|Family</td>\n",
       "      <td>Warner Bros.|Heyday Films</td>\n",
       "      <td>7/7/09</td>\n",
       "      <td>2009</td>\n",
       "    </tr>\n",
       "  </tbody>\n",
       "</table>\n",
       "</div>"
      ],
      "text/plain": [
       "        imdb_id     budget    revenue                          original_title  \\\n",
       "146   tt3319920          0   17671101                              Regression   \n",
       "686   tt1959490  125000000  362637473                                    Noah   \n",
       "1389  tt0417741  250000000  933959197  Harry Potter and the Half-Blood Prince   \n",
       "\n",
       "                                                   cast             director  \\\n",
       "146   Ethan Hawke|Emma Watson|Aaron Ashmore|Devon Bo...  Alejandro AmenÃ¡bar   \n",
       "686   Russell Crowe|Jennifer Connelly|Emma Watson|Lo...     Darren Aronofsky   \n",
       "1389  Daniel Radcliffe|Rupert Grint|Emma Watson|Tom ...          David Yates   \n",
       "\n",
       "      runtime                    genres  \\\n",
       "146       106   Horror|Mystery|Thriller   \n",
       "686       139           Drama|Adventure   \n",
       "1389      153  Adventure|Fantasy|Family   \n",
       "\n",
       "                                   production_companies release_date  \\\n",
       "146   The Weinstein Company|HimenÃ³ptero|First Gener...      10/1/15   \n",
       "686   Paramount Pictures|Regency Enterprises|Protozo...      3/20/14   \n",
       "1389                          Warner Bros.|Heyday Films       7/7/09   \n",
       "\n",
       "      release_year  \n",
       "146           2015  \n",
       "686           2014  \n",
       "1389          2009  "
      ]
     },
     "execution_count": 89,
     "metadata": {},
     "output_type": "execute_result"
    }
   ],
   "source": [
    "data3_emma.head(3)"
   ]
  },
  {
   "cell_type": "code",
   "execution_count": 90,
   "metadata": {
    "colab": {
     "base_uri": "https://localhost:8080/",
     "height": 53
    },
    "colab_type": "code",
    "executionInfo": {
     "elapsed": 41408,
     "status": "ok",
     "timestamp": 1598677578666,
     "user": {
      "displayName": "Gaurav Verma 119",
      "photoUrl": "https://lh3.googleusercontent.com/a-/AOh14GgzLA8PT_kmpW_8mwzWXqXGW6RSaxpSYPhLtQpfEQ=s64",
      "userId": "00609122792237149389"
     },
     "user_tz": -330
    },
    "id": "RjI0rMJx7hOc",
    "outputId": "fd72825e-edcc-4d4a-e58d-c4102817bd89"
   },
   "outputs": [
    {
     "data": {
      "text/plain": [
       "'Horror|Mystery|Thriller|Drama|Adventure|Adventure|Fantasy|Family|Adventure|Fantasy|Family|Adventure|Fantasy|Family|Animation|Comedy|Family|Adventure|Family|Fantasy|Adventure|Fantasy|Family|Drama|Romance|Drama|Crime|Adventure|Fantasy|Family|Adventure|Fantasy|Family|Adventure|Fantasy|Family|Mystery|Drama|Family'"
      ]
     },
     "execution_count": 90,
     "metadata": {},
     "output_type": "execute_result"
    }
   ],
   "source": [
    "temp_emma=\"|\".join(data3_emma.genres)\n",
    "temp_emma"
   ]
  },
  {
   "cell_type": "code",
   "execution_count": 91,
   "metadata": {
    "colab": {
     "base_uri": "https://localhost:8080/",
     "height": 34
    },
    "colab_type": "code",
    "executionInfo": {
     "elapsed": 41386,
     "status": "ok",
     "timestamp": 1598677578668,
     "user": {
      "displayName": "Gaurav Verma 119",
      "photoUrl": "https://lh3.googleusercontent.com/a-/AOh14GgzLA8PT_kmpW_8mwzWXqXGW6RSaxpSYPhLtQpfEQ=s64",
      "userId": "00609122792237149389"
     },
     "user_tz": -330
    },
    "id": "4GRbb4w57hI-",
    "outputId": "b9906d49-4449-4a20-9807-5c1356a7aa0f"
   },
   "outputs": [
    {
     "data": {
      "text/plain": [
       "['Family', 'Adventure', 'Fantasy', 'Drama', 'Mystery', 'Horror']"
      ]
     },
     "execution_count": 91,
     "metadata": {},
     "output_type": "execute_result"
    }
   ],
   "source": [
    "ans_3_b=Counter(temp_emma.split('|')).most_common(6)\n",
    "ans_3_b=[*dict(ans_3_b)]\n",
    "ans_3_b"
   ]
  },
  {
   "cell_type": "code",
   "execution_count": 92,
   "metadata": {
    "colab": {
     "base_uri": "https://localhost:8080/",
     "height": 52
    },
    "colab_type": "code",
    "executionInfo": {
     "elapsed": 41362,
     "status": "ok",
     "timestamp": 1598677578670,
     "user": {
      "displayName": "Gaurav Verma 119",
      "photoUrl": "https://lh3.googleusercontent.com/a-/AOh14GgzLA8PT_kmpW_8mwzWXqXGW6RSaxpSYPhLtQpfEQ=s64",
      "userId": "00609122792237149389"
     },
     "user_tz": -330
    },
    "id": "6otA4eA38Pyt",
    "outputId": "41e05cb9-e835-41b2-d6d0-1382b50a8101"
   },
   "outputs": [
    {
     "name": "stdout",
     "output_type": "stream",
     "text": [
      "the most common Genre for Vin Diesel -------------\t Action  |  Thriller  |  Crime  |  Science Fiction  |  Drama  |  Adventure\n",
      "the most common Genre for Emma Watson --------------\t Family  |  Adventure  |  Fantasy  |  Drama  |  Mystery  |  Horror\n"
     ]
    }
   ],
   "source": [
    "print(\"the most common Genre for Vin Diesel -------------\\t\",\"  |  \".join(ans_3_a))\n",
    "print(\"the most common Genre for Emma Watson --------------\\t\",\"  |  \".join(ans_3_b))"
   ]
  },
  {
   "cell_type": "code",
   "execution_count": 93,
   "metadata": {
    "colab": {
     "base_uri": "https://localhost:8080/",
     "height": 34
    },
    "colab_type": "code",
    "executionInfo": {
     "elapsed": 41339,
     "status": "ok",
     "timestamp": 1598677578672,
     "user": {
      "displayName": "Gaurav Verma 119",
      "photoUrl": "https://lh3.googleusercontent.com/a-/AOh14GgzLA8PT_kmpW_8mwzWXqXGW6RSaxpSYPhLtQpfEQ=s64",
      "userId": "00609122792237149389"
     },
     "user_tz": -330
    },
    "id": "M2a0Xr_Y8Sh8",
    "outputId": "a4195708-c4eb-463c-e90f-bd494e391054"
   },
   "outputs": [
    {
     "name": "stdout",
     "output_type": "stream",
     "text": [
      "The Most common Genres between Emma Wayson an d Vin Desial are --------------\t Drama  |  Adventure\n"
     ]
    }
   ],
   "source": [
    "print(\"The Most common Genres between Emma Wayson an d Vin Desial are --------------\\t\",\"  |  \".join(list(set(ans_3_a).intersection(set(ans_3_b)))))"
   ]
  },
  {
   "cell_type": "markdown",
   "metadata": {
    "colab_type": "text",
    "id": "56u0uujq-XI8"
   },
   "source": [
    "# Ques 4: Which are the movies with most and least earned revenue?"
   ]
  },
  {
   "cell_type": "code",
   "execution_count": 94,
   "metadata": {
    "colab": {
     "base_uri": "https://localhost:8080/",
     "height": 34
    },
    "colab_type": "code",
    "executionInfo": {
     "elapsed": 41315,
     "status": "ok",
     "timestamp": 1598677578673,
     "user": {
      "displayName": "Gaurav Verma 119",
      "photoUrl": "https://lh3.googleusercontent.com/a-/AOh14GgzLA8PT_kmpW_8mwzWXqXGW6RSaxpSYPhLtQpfEQ=s64",
      "userId": "00609122792237149389"
     },
     "user_tz": -330
    },
    "id": "vW-u7VMg8Yew",
    "outputId": "fc9e53b9-4748-4527-fedd-dcb4b69116d5"
   },
   "outputs": [
    {
     "data": {
      "text/plain": [
       "False"
      ]
     },
     "execution_count": 94,
     "metadata": {},
     "output_type": "execute_result"
    }
   ],
   "source": [
    "data4=data[data.revenue != 0]\n",
    "data4.revenue.isna().values.any()"
   ]
  },
  {
   "cell_type": "code",
   "execution_count": 95,
   "metadata": {
    "colab": {
     "base_uri": "https://localhost:8080/",
     "height": 116
    },
    "colab_type": "code",
    "executionInfo": {
     "elapsed": 41293,
     "status": "ok",
     "timestamp": 1598677578676,
     "user": {
      "displayName": "Gaurav Verma 119",
      "photoUrl": "https://lh3.googleusercontent.com/a-/AOh14GgzLA8PT_kmpW_8mwzWXqXGW6RSaxpSYPhLtQpfEQ=s64",
      "userId": "00609122792237149389"
     },
     "user_tz": -330
    },
    "id": "-N-jzyGp9OJS",
    "outputId": "4566e7ac-48e5-4df6-9165-f5a2105ee32f"
   },
   "outputs": [
    {
     "data": {
      "text/html": [
       "<div>\n",
       "<style scoped>\n",
       "    .dataframe tbody tr th:only-of-type {\n",
       "        vertical-align: middle;\n",
       "    }\n",
       "\n",
       "    .dataframe tbody tr th {\n",
       "        vertical-align: top;\n",
       "    }\n",
       "\n",
       "    .dataframe thead th {\n",
       "        text-align: right;\n",
       "    }\n",
       "</style>\n",
       "<table border=\"1\" class=\"dataframe\">\n",
       "  <thead>\n",
       "    <tr style=\"text-align: right;\">\n",
       "      <th></th>\n",
       "      <th>imdb_id</th>\n",
       "      <th>budget</th>\n",
       "      <th>revenue</th>\n",
       "      <th>original_title</th>\n",
       "      <th>cast</th>\n",
       "      <th>director</th>\n",
       "      <th>runtime</th>\n",
       "      <th>genres</th>\n",
       "      <th>production_companies</th>\n",
       "      <th>release_date</th>\n",
       "      <th>release_year</th>\n",
       "    </tr>\n",
       "  </thead>\n",
       "  <tbody>\n",
       "    <tr>\n",
       "      <th>1386</th>\n",
       "      <td>tt0499549</td>\n",
       "      <td>237000000</td>\n",
       "      <td>2781505847</td>\n",
       "      <td>Avatar</td>\n",
       "      <td>Sam Worthington|Zoe Saldana|Sigourney Weaver|S...</td>\n",
       "      <td>James Cameron</td>\n",
       "      <td>162</td>\n",
       "      <td>Action|Adventure|Fantasy|Science Fiction</td>\n",
       "      <td>Ingenious Film Partners|Twentieth Century Fox ...</td>\n",
       "      <td>12/10/09</td>\n",
       "      <td>2009</td>\n",
       "    </tr>\n",
       "  </tbody>\n",
       "</table>\n",
       "</div>"
      ],
      "text/plain": [
       "        imdb_id     budget     revenue original_title  \\\n",
       "1386  tt0499549  237000000  2781505847         Avatar   \n",
       "\n",
       "                                                   cast       director  \\\n",
       "1386  Sam Worthington|Zoe Saldana|Sigourney Weaver|S...  James Cameron   \n",
       "\n",
       "      runtime                                    genres  \\\n",
       "1386      162  Action|Adventure|Fantasy|Science Fiction   \n",
       "\n",
       "                                   production_companies release_date  \\\n",
       "1386  Ingenious Film Partners|Twentieth Century Fox ...     12/10/09   \n",
       "\n",
       "      release_year  \n",
       "1386          2009  "
      ]
     },
     "execution_count": 95,
     "metadata": {},
     "output_type": "execute_result"
    }
   ],
   "source": [
    "#Maximum Revenue Earning Movie is :\n",
    "answer_4_a=data4[data4.revenue == data4.revenue.max()]\n",
    "answer_4_a "
   ]
  },
  {
   "cell_type": "code",
   "execution_count": 96,
   "metadata": {
    "colab": {
     "base_uri": "https://localhost:8080/",
     "height": 52
    },
    "colab_type": "code",
    "executionInfo": {
     "elapsed": 41269,
     "status": "ok",
     "timestamp": 1598677578677,
     "user": {
      "displayName": "Gaurav Verma 119",
      "photoUrl": "https://lh3.googleusercontent.com/a-/AOh14GgzLA8PT_kmpW_8mwzWXqXGW6RSaxpSYPhLtQpfEQ=s64",
      "userId": "00609122792237149389"
     },
     "user_tz": -330
    },
    "id": "41DTUInl-zAj",
    "outputId": "ccde2b36-fc9a-46c5-9474-046e509cfa48"
   },
   "outputs": [
    {
     "name": "stdout",
     "output_type": "stream",
     "text": [
      "Maximum Revenue Earning Movie is -------------\t 1386    Avatar\n",
      "Name: original_title, dtype: object\n"
     ]
    }
   ],
   "source": [
    "print(\"Maximum Revenue Earning Movie is -------------\\t\",answer_4_a.original_title)"
   ]
  },
  {
   "cell_type": "code",
   "execution_count": 97,
   "metadata": {
    "colab": {
     "base_uri": "https://localhost:8080/",
     "height": 147
    },
    "colab_type": "code",
    "executionInfo": {
     "elapsed": 41245,
     "status": "ok",
     "timestamp": 1598677578679,
     "user": {
      "displayName": "Gaurav Verma 119",
      "photoUrl": "https://lh3.googleusercontent.com/a-/AOh14GgzLA8PT_kmpW_8mwzWXqXGW6RSaxpSYPhLtQpfEQ=s64",
      "userId": "00609122792237149389"
     },
     "user_tz": -330
    },
    "id": "UdQm4_Uw-1bm",
    "outputId": "d43d10fc-4a35-4fc9-ad10-5991b79a4183"
   },
   "outputs": [
    {
     "data": {
      "text/html": [
       "<div>\n",
       "<style scoped>\n",
       "    .dataframe tbody tr th:only-of-type {\n",
       "        vertical-align: middle;\n",
       "    }\n",
       "\n",
       "    .dataframe tbody tr th {\n",
       "        vertical-align: top;\n",
       "    }\n",
       "\n",
       "    .dataframe thead th {\n",
       "        text-align: right;\n",
       "    }\n",
       "</style>\n",
       "<table border=\"1\" class=\"dataframe\">\n",
       "  <thead>\n",
       "    <tr style=\"text-align: right;\">\n",
       "      <th></th>\n",
       "      <th>imdb_id</th>\n",
       "      <th>budget</th>\n",
       "      <th>revenue</th>\n",
       "      <th>original_title</th>\n",
       "      <th>cast</th>\n",
       "      <th>director</th>\n",
       "      <th>runtime</th>\n",
       "      <th>genres</th>\n",
       "      <th>production_companies</th>\n",
       "      <th>release_date</th>\n",
       "      <th>release_year</th>\n",
       "    </tr>\n",
       "  </thead>\n",
       "  <tbody>\n",
       "    <tr>\n",
       "      <th>5067</th>\n",
       "      <td>tt0323944</td>\n",
       "      <td>6000000</td>\n",
       "      <td>2</td>\n",
       "      <td>Shattered Glass</td>\n",
       "      <td>Hayden Christensen|Peter Sarsgaard|ChloÃ« Sevi...</td>\n",
       "      <td>Billy Ray</td>\n",
       "      <td>94</td>\n",
       "      <td>Drama|History</td>\n",
       "      <td>Lions Gate Films|Cruise/Wagner Productions|Bau...</td>\n",
       "      <td>11/14/03</td>\n",
       "      <td>2003</td>\n",
       "    </tr>\n",
       "    <tr>\n",
       "      <th>8142</th>\n",
       "      <td>tt0113749</td>\n",
       "      <td>6000000</td>\n",
       "      <td>2</td>\n",
       "      <td>Mallrats</td>\n",
       "      <td>Jason Lee|Jeremy London|Shannen Doherty|Claire...</td>\n",
       "      <td>Kevin Smith</td>\n",
       "      <td>94</td>\n",
       "      <td>Romance|Comedy</td>\n",
       "      <td>Gramercy Pictures|Alphaville Films|View Askew ...</td>\n",
       "      <td>10/20/95</td>\n",
       "      <td>1995</td>\n",
       "    </tr>\n",
       "  </tbody>\n",
       "</table>\n",
       "</div>"
      ],
      "text/plain": [
       "        imdb_id   budget  revenue   original_title  \\\n",
       "5067  tt0323944  6000000        2  Shattered Glass   \n",
       "8142  tt0113749  6000000        2         Mallrats   \n",
       "\n",
       "                                                   cast     director  runtime  \\\n",
       "5067  Hayden Christensen|Peter Sarsgaard|ChloÃ« Sevi...    Billy Ray       94   \n",
       "8142  Jason Lee|Jeremy London|Shannen Doherty|Claire...  Kevin Smith       94   \n",
       "\n",
       "              genres                               production_companies  \\\n",
       "5067   Drama|History  Lions Gate Films|Cruise/Wagner Productions|Bau...   \n",
       "8142  Romance|Comedy  Gramercy Pictures|Alphaville Films|View Askew ...   \n",
       "\n",
       "     release_date  release_year  \n",
       "5067     11/14/03          2003  \n",
       "8142     10/20/95          1995  "
      ]
     },
     "execution_count": 97,
     "metadata": {},
     "output_type": "execute_result"
    }
   ],
   "source": [
    "#Least Revenue Earning Movie is :\n",
    "answer_4_b=data4[data4.revenue == data4.revenue.min()]\n",
    "answer_4_b"
   ]
  },
  {
   "cell_type": "code",
   "execution_count": 98,
   "metadata": {
    "colab": {
     "base_uri": "https://localhost:8080/",
     "height": 86
    },
    "colab_type": "code",
    "executionInfo": {
     "elapsed": 41221,
     "status": "ok",
     "timestamp": 1598677578681,
     "user": {
      "displayName": "Gaurav Verma 119",
      "photoUrl": "https://lh3.googleusercontent.com/a-/AOh14GgzLA8PT_kmpW_8mwzWXqXGW6RSaxpSYPhLtQpfEQ=s64",
      "userId": "00609122792237149389"
     },
     "user_tz": -330
    },
    "id": "VTfKp7WS--de",
    "outputId": "17160c5f-bcc1-4c56-d829-e2974ef6492d"
   },
   "outputs": [
    {
     "name": "stdout",
     "output_type": "stream",
     "text": [
      "Least Revenue Earning Movie is -------------\n",
      " 5067    Shattered Glass\n",
      "8142           Mallrats\n",
      "Name: original_title, dtype: object\n"
     ]
    }
   ],
   "source": [
    "print(\"Least Revenue Earning Movie is -------------\\n\",answer_4_b.original_title)"
   ]
  },
  {
   "cell_type": "markdown",
   "metadata": {
    "colab_type": "text",
    "id": "FhDcZbOf_Ri1"
   },
   "source": [
    "## Alternative answers"
   ]
  },
  {
   "cell_type": "code",
   "execution_count": 99,
   "metadata": {
    "colab": {
     "base_uri": "https://localhost:8080/",
     "height": 243
    },
    "colab_type": "code",
    "executionInfo": {
     "elapsed": 41200,
     "status": "ok",
     "timestamp": 1598677578685,
     "user": {
      "displayName": "Gaurav Verma 119",
      "photoUrl": "https://lh3.googleusercontent.com/a-/AOh14GgzLA8PT_kmpW_8mwzWXqXGW6RSaxpSYPhLtQpfEQ=s64",
      "userId": "00609122792237149389"
     },
     "user_tz": -330
    },
    "id": "Mt6hesUv_NDX",
    "outputId": "5fe2816b-c75d-4984-dc1b-54e0235f6070"
   },
   "outputs": [
    {
     "name": "stdout",
     "output_type": "stream",
     "text": [
      "top 10 -Movies With Least Revenue of All Time----------------\n",
      "\n",
      "5067                    Shattered Glass\n",
      "8142                           Mallrats\n",
      "1380                       The Sentinel\n",
      "3239     Dr. Horrible's Sing-Along Blog\n",
      "10607                     Soylent Green\n",
      "5162                        Kid's Story\n",
      "8523                  Bordello of Blood\n",
      "8226            Never Talk to Strangers\n",
      "10307          The House of the Spirits\n",
      "3283                    Parlami D'Amore\n",
      "Name: original_title, dtype: object\n"
     ]
    }
   ],
   "source": [
    "#top 10 -Movies With Least Revenue of the average runtime of movies in the year 2006All Time\n",
    "A4_alt_min=data4.loc[data4.revenue.nsmallest(10).index]\n",
    "print(\"top 10 -Movies With Least Revenue of All Time----------------\\n\")\n",
    "print(A4_alt_min.original_title)"
   ]
  },
  {
   "cell_type": "code",
   "execution_count": 100,
   "metadata": {
    "colab": {
     "base_uri": "https://localhost:8080/",
     "height": 243
    },
    "colab_type": "code",
    "executionInfo": {
     "elapsed": 41175,
     "status": "ok",
     "timestamp": 1598677578686,
     "user": {
      "displayName": "Gaurav Verma 119",
      "photoUrl": "https://lh3.googleusercontent.com/a-/AOh14GgzLA8PT_kmpW_8mwzWXqXGW6RSaxpSYPhLtQpfEQ=s64",
      "userId": "00609122792237149389"
     },
     "user_tz": -330
    },
    "id": "xgfhAkyX_U6c",
    "outputId": "9c0be4ce-f5bb-4123-e17d-7d9639ffa6fb"
   },
   "outputs": [
    {
     "name": "stdout",
     "output_type": "stream",
     "text": [
      "top 10 -Movies With Most Revenue of All Time----------------\n",
      "\n",
      "1386                                          Avatar\n",
      "3                       Star Wars: The Force Awakens\n",
      "5231                                         Titanic\n",
      "4361                                    The Avengers\n",
      "0                                     Jurassic World\n",
      "4                                          Furious 7\n",
      "14                           Avengers: Age of Ultron\n",
      "3374    Harry Potter and the Deathly Hallows: Part 2\n",
      "5422                                          Frozen\n",
      "5425                                      Iron Man 3\n",
      "Name: original_title, dtype: object\n"
     ]
    }
   ],
   "source": [
    "#top 10 -Movies With Most Revenue of All Time\n",
    "A4_alt_max =data4.loc[data4.revenue.nlargest(10).index]\n",
    "print(\"top 10 -Movies With Most Revenue of All Time----------------\\n\")\n",
    "print(A4_alt_max.original_title)"
   ]
  },
  {
   "cell_type": "markdown",
   "metadata": {
    "colab_type": "text",
    "id": "KHhdYqFdAaX1"
   },
   "source": [
    "## Ques5 : What is the average runtime of movies in the year 2006?"
   ]
  },
  {
   "cell_type": "code",
   "execution_count": 101,
   "metadata": {
    "colab": {
     "base_uri": "https://localhost:8080/",
     "height": 34
    },
    "colab_type": "code",
    "executionInfo": {
     "elapsed": 41152,
     "status": "ok",
     "timestamp": 1598677578687,
     "user": {
      "displayName": "Gaurav Verma 119",
      "photoUrl": "https://lh3.googleusercontent.com/a-/AOh14GgzLA8PT_kmpW_8mwzWXqXGW6RSaxpSYPhLtQpfEQ=s64",
      "userId": "00609122792237149389"
     },
     "user_tz": -330
    },
    "id": "ced8G8PG_emR",
    "outputId": "88a75007-a1cb-4b5c-db34-18ba22ef9306"
   },
   "outputs": [
    {
     "data": {
      "text/plain": [
       "101.68382352941177"
      ]
     },
     "execution_count": 101,
     "metadata": {},
     "output_type": "execute_result"
    }
   ],
   "source": [
    "#Filterout The Movies which are released in 2006 , then count the Runtime of each movie the find Mean\n",
    "answer_5=data[data.release_year == 2006].runtime.mean()\n",
    "answer_5"
   ]
  },
  {
   "cell_type": "code",
   "execution_count": 102,
   "metadata": {
    "colab": {
     "base_uri": "https://localhost:8080/",
     "height": 34
    },
    "colab_type": "code",
    "executionInfo": {
     "elapsed": 41129,
     "status": "ok",
     "timestamp": 1598677578688,
     "user": {
      "displayName": "Gaurav Verma 119",
      "photoUrl": "https://lh3.googleusercontent.com/a-/AOh14GgzLA8PT_kmpW_8mwzWXqXGW6RSaxpSYPhLtQpfEQ=s64",
      "userId": "00609122792237149389"
     },
     "user_tz": -330
    },
    "id": "xOqkj9Zo_zD5",
    "outputId": "6d9c1e05-d069-4d20-d843-00dfadb35d7e"
   },
   "outputs": [
    {
     "name": "stdout",
     "output_type": "stream",
     "text": [
      "the average runtime of movies in the year 2006 ---------\t 101.68382352941177   mins\n"
     ]
    }
   ],
   "source": [
    "print(\"the average runtime of movies in the year 2006 ---------\\t\",answer_5,\"  mins\")"
   ]
  },
  {
   "cell_type": "markdown",
   "metadata": {
    "colab_type": "text",
    "id": "uTpE4gsbAp86"
   },
   "source": [
    "## Ques 6:  Name any 3 production companies which have invested money in worse revenue movies?"
   ]
  },
  {
   "cell_type": "code",
   "execution_count": 103,
   "metadata": {
    "colab": {
     "base_uri": "https://localhost:8080/",
     "height": 104
    },
    "colab_type": "code",
    "executionInfo": {
     "elapsed": 41106,
     "status": "ok",
     "timestamp": 1598677578690,
     "user": {
      "displayName": "Gaurav Verma 119",
      "photoUrl": "https://lh3.googleusercontent.com/a-/AOh14GgzLA8PT_kmpW_8mwzWXqXGW6RSaxpSYPhLtQpfEQ=s64",
      "userId": "00609122792237149389"
     },
     "user_tz": -330
    },
    "id": "3MSMTs9-_8DL",
    "outputId": "cae00691-713f-4463-8484-81d69558700a"
   },
   "outputs": [
    {
     "data": {
      "text/plain": [
       "<PandasArray>\n",
       "[['Lions Gate Films', 'Cruise/Wagner Productions', 'Baumgarten Merims Productions'],\n",
       "                ['Gramercy Pictures', 'Alphaville Films', 'View Askew Productions'],\n",
       "                                                             ['Universal Pictures']]\n",
       "Length: 3, dtype: object"
      ]
     },
     "execution_count": 103,
     "metadata": {},
     "output_type": "execute_result"
    }
   ],
   "source": [
    "array=data4.loc[data4.revenue.nsmallest(3).index].production_companies.str.split('|').array\n",
    "array"
   ]
  },
  {
   "cell_type": "code",
   "execution_count": 104,
   "metadata": {
    "colab": {
     "base_uri": "https://localhost:8080/",
     "height": 52
    },
    "colab_type": "code",
    "executionInfo": {
     "elapsed": 43280,
     "status": "ok",
     "timestamp": 1598677580888,
     "user": {
      "displayName": "Gaurav Verma 119",
      "photoUrl": "https://lh3.googleusercontent.com/a-/AOh14GgzLA8PT_kmpW_8mwzWXqXGW6RSaxpSYPhLtQpfEQ=s64",
      "userId": "00609122792237149389"
     },
     "user_tz": -330
    },
    "id": "Q4MCzO9XAGfW",
    "outputId": "ebde2484-fd36-44da-a942-a69564985ddf"
   },
   "outputs": [
    {
     "name": "stdout",
     "output_type": "stream",
     "text": [
      "3 production companies which have invested money in worse revenue movies are \n",
      " ['Lions Gate Films', 'Cruise/Wagner Productions', 'Baumgarten Merims Productions']\n"
     ]
    }
   ],
   "source": [
    "print(\"3 production companies which have invested money in worse revenue movies are \\n\",array[0])"
   ]
  },
  {
   "cell_type": "markdown",
   "metadata": {
    "colab_type": "text",
    "id": "qWZ3p0M8BDxS"
   },
   "source": [
    "# **Fun Facts**"
   ]
  },
  {
   "cell_type": "code",
   "execution_count": 105,
   "metadata": {
    "colab": {},
    "colab_type": "code",
    "executionInfo": {
     "elapsed": 43265,
     "status": "ok",
     "timestamp": 1598677580890,
     "user": {
      "displayName": "Gaurav Verma 119",
      "photoUrl": "https://lh3.googleusercontent.com/a-/AOh14GgzLA8PT_kmpW_8mwzWXqXGW6RSaxpSYPhLtQpfEQ=s64",
      "userId": "00609122792237149389"
     },
     "user_tz": -330
    },
    "id": "9XOYjX0DA-uW"
   },
   "outputs": [],
   "source": [
    "data_pre = data[(data.budget >0) & (data.revenue > 0)]\n",
    "data_x = data_pre.budget.mean()\n",
    "data_y = data_pre.revenue.mean()\n",
    "#data_z = data_pre[abs(data_pre.budget - data_pre.revenue)< 5000000].budget.mean()"
   ]
  },
  {
   "cell_type": "code",
   "execution_count": 106,
   "metadata": {
    "colab": {
     "base_uri": "https://localhost:8080/",
     "height": 34
    },
    "colab_type": "code",
    "executionInfo": {
     "elapsed": 43251,
     "status": "ok",
     "timestamp": 1598677580892,
     "user": {
      "displayName": "Gaurav Verma 119",
      "photoUrl": "https://lh3.googleusercontent.com/a-/AOh14GgzLA8PT_kmpW_8mwzWXqXGW6RSaxpSYPhLtQpfEQ=s64",
      "userId": "00609122792237149389"
     },
     "user_tz": -330
    },
    "id": "u0cSUqfNBEvb",
    "outputId": "f793f533-8a4d-4f21-81b6-47419f5c7196"
   },
   "outputs": [
    {
     "data": {
      "text/plain": [
       "(37203696.954852104, 107686616.09807992)"
      ]
     },
     "execution_count": 106,
     "metadata": {},
     "output_type": "execute_result"
    }
   ],
   "source": [
    "data_x,data_y"
   ]
  },
  {
   "cell_type": "code",
   "execution_count": 107,
   "metadata": {
    "colab": {
     "base_uri": "https://localhost:8080/",
     "height": 609
    },
    "colab_type": "code",
    "executionInfo": {
     "elapsed": 43229,
     "status": "ok",
     "timestamp": 1598677580895,
     "user": {
      "displayName": "Gaurav Verma 119",
      "photoUrl": "https://lh3.googleusercontent.com/a-/AOh14GgzLA8PT_kmpW_8mwzWXqXGW6RSaxpSYPhLtQpfEQ=s64",
      "userId": "00609122792237149389"
     },
     "user_tz": -330
    },
    "id": "oApMxpVrBLl_",
    "outputId": "dc5460b2-fb72-4f6b-db67-b279f5c8e1e7"
   },
   "outputs": [
    {
     "data": {
      "image/png": "[encoded data removed]",
      "text/plain": [
       "<Figure size 720x720 with 1 Axes>"
      ]
     },
     "metadata": {},
     "output_type": "display_data"
    }
   ],
   "source": [
    "plt.figure(figsize=(10,10))\n",
    "plt.title(\"Average Expenditure in each Movie VS Avg Revenue \",fontdict={'fontsize':35,'color':'yellow'})\n",
    "_,_,at=plt.pie([data_x,data_y],labels=[\"Avg Budget\",\"Avg Revenue\"],autopct='%1.1f%%',shadow=True,explode=(0,0.1),startangle=60,colors=['aqua','peru'],textprops={\"color\":\"w\",\"size\":25})\n",
    "plt.setp(at,size=25,weight='bold')\n",
    "plt.show()"
   ]
  },
  {
   "cell_type": "code",
   "execution_count": 108,
   "metadata": {
    "colab": {},
    "colab_type": "code",
    "executionInfo": {
     "elapsed": 43215,
     "status": "ok",
     "timestamp": 1598677580898,
     "user": {
      "displayName": "Gaurav Verma 119",
      "photoUrl": "https://lh3.googleusercontent.com/a-/AOh14GgzLA8PT_kmpW_8mwzWXqXGW6RSaxpSYPhLtQpfEQ=s64",
      "userId": "00609122792237149389"
     },
     "user_tz": -330
    },
    "id": "wHAFn2YqBMMz"
   },
   "outputs": [],
   "source": [
    "d_g= data.genres.dropna()\n",
    "movie_genres=\"|\".join(d_g)\n",
    "movie_genres=dict(Counter(movie_genres.split('|')))\n",
    "genre_ti=list(movie_genres.keys())\n",
    "genre_val=list(movie_genres.values())"
   ]
  },
  {
   "cell_type": "code",
   "execution_count": 109,
   "metadata": {
    "colab": {
     "base_uri": "https://localhost:8080/",
     "height": 880
    },
    "colab_type": "code",
    "executionInfo": {
     "elapsed": 43198,
     "status": "ok",
     "timestamp": 1598677580900,
     "user": {
      "displayName": "Gaurav Verma 119",
      "photoUrl": "https://lh3.googleusercontent.com/a-/AOh14GgzLA8PT_kmpW_8mwzWXqXGW6RSaxpSYPhLtQpfEQ=s64",
      "userId": "00609122792237149389"
     },
     "user_tz": -330
    },
    "id": "ILmaFx-oBQxo",
    "outputId": "a9df8f0a-7b79-4186-cd43-2f7afc0a51a7"
   },
   "outputs": [
    {
     "data": {
      "image/png": "[encoded data removed]",
      "text/plain": [
       "<Figure size 1080x1080 with 1 Axes>"
      ]
     },
     "metadata": {},
     "output_type": "display_data"
    }
   ],
   "source": [
    "col=['violet','indigo','blue','green','yellow','orange','red','purple','magenta','orangered','chocolate','brown','peru','aqua','crimson','lime','olive','coral','darkred','khaki']\n",
    "plt.figure(figsize=(15,15))\n",
    "plt.title(\"Movie Choice  in Hollywood\",fontdict={'fontsize':35,'color':'yellow'})\n",
    "pat,_,at=plt.pie(genre_val,labels=genre_ti,autopct='%1.1f%%',shadow=True,startangle=60,colors=col,textprops={\"color\":\"w\",\"size\":10})\n",
    "plt.setp(at,size=15,weight='bold')\n",
    "plt.legend(pat,genre_val,loc=5)\n",
    "plt.show()"
   ]
  },
  {
   "cell_type": "code",
   "execution_count": 110,
   "metadata": {
    "colab": {
     "base_uri": "https://localhost:8080/",
     "height": 98
    },
    "colab_type": "code",
    "executionInfo": {
     "elapsed": 43175,
     "status": "ok",
     "timestamp": 1598677580902,
     "user": {
      "displayName": "Gaurav Verma 119",
      "photoUrl": "https://lh3.googleusercontent.com/a-/AOh14GgzLA8PT_kmpW_8mwzWXqXGW6RSaxpSYPhLtQpfEQ=s64",
      "userId": "00609122792237149389"
     },
     "user_tz": -330
    },
    "id": "Q8x6WOYeBTbJ",
    "outputId": "5ba6ce7a-e643-407e-ea13-92206e846d1c"
   },
   "outputs": [
    {
     "data": {
      "text/html": [
       "<div>\n",
       "<style scoped>\n",
       "    .dataframe tbody tr th:only-of-type {\n",
       "        vertical-align: middle;\n",
       "    }\n",
       "\n",
       "    .dataframe tbody tr th {\n",
       "        vertical-align: top;\n",
       "    }\n",
       "\n",
       "    .dataframe thead th {\n",
       "        text-align: right;\n",
       "    }\n",
       "</style>\n",
       "<table border=\"1\" class=\"dataframe\">\n",
       "  <thead>\n",
       "    <tr style=\"text-align: right;\">\n",
       "      <th></th>\n",
       "      <th>imdb_id</th>\n",
       "      <th>budget</th>\n",
       "      <th>revenue</th>\n",
       "      <th>original_title</th>\n",
       "      <th>cast</th>\n",
       "      <th>director</th>\n",
       "      <th>runtime</th>\n",
       "      <th>genres</th>\n",
       "      <th>production_companies</th>\n",
       "      <th>release_date</th>\n",
       "      <th>release_year</th>\n",
       "    </tr>\n",
       "  </thead>\n",
       "  <tbody>\n",
       "    <tr>\n",
       "      <th>0</th>\n",
       "      <td>tt0369610</td>\n",
       "      <td>150000000</td>\n",
       "      <td>1513528810</td>\n",
       "      <td>Jurassic World</td>\n",
       "      <td>Chris Pratt|Bryce Dallas Howard|Irrfan Khan|Vi...</td>\n",
       "      <td>Colin Trevorrow</td>\n",
       "      <td>124</td>\n",
       "      <td>Action|Adventure|Science Fiction|Thriller</td>\n",
       "      <td>Universal Studios|Amblin Entertainment|Legenda...</td>\n",
       "      <td>6/9/15</td>\n",
       "      <td>2015</td>\n",
       "    </tr>\n",
       "  </tbody>\n",
       "</table>\n",
       "</div>"
      ],
      "text/plain": [
       "     imdb_id     budget     revenue  original_title  \\\n",
       "0  tt0369610  150000000  1513528810  Jurassic World   \n",
       "\n",
       "                                                cast         director  \\\n",
       "0  Chris Pratt|Bryce Dallas Howard|Irrfan Khan|Vi...  Colin Trevorrow   \n",
       "\n",
       "   runtime                                     genres  \\\n",
       "0      124  Action|Adventure|Science Fiction|Thriller   \n",
       "\n",
       "                                production_companies release_date  \\\n",
       "0  Universal Studios|Amblin Entertainment|Legenda...       6/9/15   \n",
       "\n",
       "   release_year  \n",
       "0          2015  "
      ]
     },
     "execution_count": 110,
     "metadata": {},
     "output_type": "execute_result"
    }
   ],
   "source": [
    "data.head(1)"
   ]
  },
  {
   "cell_type": "code",
   "execution_count": 111,
   "metadata": {
    "colab": {
     "base_uri": "https://localhost:8080/",
     "height": 282
    },
    "colab_type": "code",
    "executionInfo": {
     "elapsed": 1817,
     "status": "ok",
     "timestamp": 1598677618618,
     "user": {
      "displayName": "Gaurav Verma 119",
      "photoUrl": "https://lh3.googleusercontent.com/a-/AOh14GgzLA8PT_kmpW_8mwzWXqXGW6RSaxpSYPhLtQpfEQ=s64",
      "userId": "00609122792237149389"
     },
     "user_tz": -330
    },
    "id": "2emwhiKLeAw9",
    "outputId": "a1895827-ad26-4587-d48e-30acfdd2b0a7"
   },
   "outputs": [
    {
     "data": {
      "text/plain": [
       "<Figure size 2160x720 with 0 Axes>"
      ]
     },
     "metadata": {},
     "output_type": "display_data"
    },
    {
     "data": {
      "image/png": "[encoded data removed]",
      "text/plain": [
       "<Figure size 432x288 with 1 Axes>"
      ]
     },
     "metadata": {
      "needs_background": "light"
     },
     "output_type": "display_data"
    }
   ],
   "source": [
    "plt.figure(figsize=(30,10))\n",
    "fig, ax = plt.subplots()\n",
    "ax.scatter(genre_ti,genre_val,alpha=0.9)\n",
    "plt.plot(genre_ti,genre_val,color='r')\n",
    "\n",
    "for i, txt in enumerate(genre_val):\n",
    "  p=(genre_ti[i], genre_val[i])\n",
    "  ax.annotate(p, (genre_ti[i], genre_val[i]))\n",
    "\n",
    "plt.show()"
   ]
  },
  {
   "cell_type": "code",
   "execution_count": 112,
   "metadata": {
    "colab": {
     "base_uri": "https://localhost:8080/",
     "height": 574
    },
    "colab_type": "code",
    "executionInfo": {
     "elapsed": 49195,
     "status": "ok",
     "timestamp": 1598677586965,
     "user": {
      "displayName": "Gaurav Verma 119",
      "photoUrl": "https://lh3.googleusercontent.com/a-/AOh14GgzLA8PT_kmpW_8mwzWXqXGW6RSaxpSYPhLtQpfEQ=s64",
      "userId": "00609122792237149389"
     },
     "user_tz": -330
    },
    "id": "XyQuP5-cX1W7",
    "outputId": "670acbdd-74f5-4866-b7dc-a79b5a9097e8"
   },
   "outputs": [
    {
     "data": {
      "image/png": "[encoded data removed]",
      "text/plain": [
       "<Figure size 2160x720 with 1 Axes>"
      ]
     },
     "metadata": {
      "needs_background": "light"
     },
     "output_type": "display_data"
    }
   ],
   "source": [
    "plt.figure(figsize=(30,10))\n",
    "plt.ylim(0,3000000000)\n",
    "plt.xlim(0,450000000)\n",
    "plt.title(\"budget vs Revenue\",fontdict={'fontsize':20,'color':'orange'})\n",
    "sns.lineplot(x='budget',y='revenue',data=data,sizes=(.25, 2.5))\n",
    "plt.show()"
   ]
  },
  {
   "cell_type": "code",
   "execution_count": null,
   "metadata": {
    "colab": {},
    "colab_type": "code",
    "executionInfo": {
     "elapsed": 49188,
     "status": "ok",
     "timestamp": 1598677586974,
     "user": {
      "displayName": "Gaurav Verma 119",
      "photoUrl": "https://lh3.googleusercontent.com/a-/AOh14GgzLA8PT_kmpW_8mwzWXqXGW6RSaxpSYPhLtQpfEQ=s64",
      "userId": "00609122792237149389"
     },
     "user_tz": -330
    },
    "id": "YcDjVjW0YERV"
   },
   "outputs": [],
   "source": []
  },
  {
   "cell_type": "code",
   "execution_count": null,
   "metadata": {
    "colab": {},
    "colab_type": "code",
    "executionInfo": {
     "elapsed": 49190,
     "status": "ok",
     "timestamp": 1598677586980,
     "user": {
      "displayName": "Gaurav Verma 119",
      "photoUrl": "https://lh3.googleusercontent.com/a-/AOh14GgzLA8PT_kmpW_8mwzWXqXGW6RSaxpSYPhLtQpfEQ=s64",
      "userId": "00609122792237149389"
     },
     "user_tz": -330
    },
    "id": "QkyvM_eefu9Y"
   },
   "outputs": [],
   "source": []
  }
 ],
 "metadata": {
  "colab": {
   "authorship_tag": "ABX9TyOTR+Yz0j29kxri7yUFEBAz",
   "collapsed_sections": [],
   "name": "Verzeo2.ipynb",
   "provenance": []
  },
  "kernelspec": {
   "display_name": "Python 3",
   "language": "python",
   "name": "python3"
  },
  "language_info": {
   "codemirror_mode": {
    "name": "ipython",
    "version": 3
   },
   "file_extension": ".py",
   "mimetype": "text/x-python",
   "name": "python",
   "nbconvert_exporter": "python",
   "pygments_lexer": "ipython3",
   "version": "3.7.6"
  }
 },
 "nbformat": 4,
 "nbformat_minor": 1
}
